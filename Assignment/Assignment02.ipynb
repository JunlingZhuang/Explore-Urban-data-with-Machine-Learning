{
  "cells": [
    {
      "cell_type": "markdown",
      "metadata": {
        "id": "1_-CT60ZOMLd"
      },
      "source": [
        "# Assignment 02\n",
        "__Please submit the Jupyter notebook (.ipynb file). File name should be \"Lastname_Firstname_assignment01.ipynb\". Provide step-by-step codes for grading and do not forget to run all your code before submitting.__\n",
        "\n",
        "* Please do not share works publicly on GitHub or other places until the deadline.\n",
        "* Do not forget that all the operations should be executed inside this notebook, you must not use external software (like Excel).\n",
        "* Most (if not all) the questions are solved using a few lines of code. If you are writing more than 10 lines in one question, probably the answer is not correct.\n",
        "* Some parts of coding can be identical if you work with your classmates but annotation/comment must be individual.\n",
        "* If you use code from external sources, you must cite the source.\n",
        "* If you have any concerns or struggles, do not hesitate to send an email\n",
        "* To write comments use the `#` at the beginning of the line."
      ]
    },
    {
      "cell_type": "markdown",
      "metadata": {
        "id": "cjWlFzHROMLf"
      },
      "source": [
        "# 1. Answer the questions:\n",
        "\n",
        "a) Which is the difference between using $y$ vs. $ŷ$?\n",
        "\n",
        "b) Which is the relationship between the covariance and the correlation metrics?\n",
        "\n",
        "c) If a model has a $R^2$ of 0.80, which is the interpretation?\n",
        "\n",
        "d) What metrics you would use to evaluate regression model performance?"
      ]
    },
    {
      "cell_type": "code",
      "execution_count": null,
      "metadata": {
        "id": "a8f0m1h7OMLf"
      },
      "outputs": [],
      "source": [
        "# "
      ]
    },
    {
      "cell_type": "code",
      "source": [
        "# "
      ],
      "metadata": {
        "id": "TIJdDGkBcpqb"
      },
      "execution_count": null,
      "outputs": []
    },
    {
      "cell_type": "code",
      "source": [
        "# "
      ],
      "metadata": {
        "id": "WKnC_AOScpyr"
      },
      "execution_count": null,
      "outputs": []
    },
    {
      "cell_type": "code",
      "source": [
        "# "
      ],
      "metadata": {
        "id": "S4jz7EexcqCH"
      },
      "execution_count": null,
      "outputs": []
    },
    {
      "cell_type": "markdown",
      "metadata": {
        "id": "27jB40CxOMLf"
      },
      "source": [
        "# 2. Regression cleaning and modeling\n",
        "You will train regression models to predict the market value of buildings provided by the NYC Department of Finance (DOF): Property Valuation and Assessment Data in https://data.cityofnewyork.us/resource/yjxr-fw8i. You can find the metadata in the website for interpretation.\n",
        "\n",
        "The objective is to estimate the variable \"Market Value\" or `fullval`. For this reason, the following columns should not be used in the modeling: `['avland','avtot', 'exland', 'extot','avland2', 'avtot2', 'exland2', 'extot2']`\n",
        "\n",
        "**Important**\n",
        "\n",
        "Remember that this is an iterative implementation, so try to perfom this process at least twice selecting different variables. You can either comment your old code with `#` or just describe the process in the last question.\n",
        "\n",
        "However, do not feel dissapointed if your regression metrics are not high, the objective of this assignment is to present you a real-world dataset and introduce you to the modeling process. For this assignment, the grading will not depend on how \"high\" is the evaluation metric of your model.\n",
        "\n"
      ]
    },
    {
      "cell_type": "markdown",
      "source": [
        "\n",
        "### (1) Load the dataset\n",
        "\n",
        "You can use the export feature in the main website or just copy the URL from the API: https://data.cityofnewyork.us/resource/yjxr-fw8i.csv"
      ],
      "metadata": {
        "id": "E3aWXLgRHIbI"
      }
    },
    {
      "cell_type": "code",
      "source": [],
      "metadata": {
        "id": "HDx8jf1UHVPI"
      },
      "execution_count": null,
      "outputs": []
    },
    {
      "cell_type": "markdown",
      "source": [
        "### (2) Implement a brief exploratory data analysis\n",
        "\n",
        "You can use this space to describe overall patterns of your data as well as identifying outliers."
      ],
      "metadata": {
        "id": "btllhj4hHWqf"
      }
    },
    {
      "cell_type": "code",
      "source": [],
      "metadata": {
        "id": "9JlA9CpqJ9SC"
      },
      "execution_count": null,
      "outputs": []
    },
    {
      "cell_type": "markdown",
      "source": [
        "### (3) Perform the cleaning and pre-processing\n",
        "\n",
        "Before starting the modeling tasks, you need to clean your dataset which includes manipulating those null values and reduce the dataframe to the essential columns. You can either drop rows, fill with zeros or other techniques you consider necessary.\n",
        "\n",
        "In this task you can drop the following columns:\n",
        "`['avland','avtot', 'exland', 'extot','avland2', 'avtot2', 'exland2', 'extot2']`"
      ],
      "metadata": {
        "id": "8GEiSCAFIAZ_"
      }
    },
    {
      "cell_type": "code",
      "source": [],
      "metadata": {
        "id": "3jw_r6qPJhDG"
      },
      "execution_count": null,
      "outputs": []
    },
    {
      "cell_type": "markdown",
      "metadata": {
        "id": "uS9KUXWeOMLf"
      },
      "source": [
        "### (4) Define target variable ($y$) and predictors ($X$) and split data into training and test data\n",
        "    Since we are predicting the market value, 'fullval' would be your target column. Feel free to use the columns you find more useful."
      ]
    },
    {
      "cell_type": "code",
      "execution_count": null,
      "metadata": {
        "id": "XnCpEnOiOMLg"
      },
      "outputs": [],
      "source": []
    },
    {
      "cell_type": "markdown",
      "metadata": {
        "id": "pa1H3X-sOMLg"
      },
      "source": [
        "# 3. Create OLS model:\n",
        "### (1) Show train and test results \n",
        "    Please use R-squared and Mean Squared Error (MSE) to evaluate your model"
      ]
    },
    {
      "cell_type": "code",
      "execution_count": null,
      "metadata": {
        "id": "gCwjF58cOMLg"
      },
      "outputs": [],
      "source": []
    },
    {
      "cell_type": "markdown",
      "metadata": {
        "id": "yq1yj4bhOMLg"
      },
      "source": [
        "### (2) Show regression coefficients"
      ]
    },
    {
      "cell_type": "code",
      "execution_count": null,
      "metadata": {
        "id": "yHTmi2rOOMLg"
      },
      "outputs": [],
      "source": []
    },
    {
      "cell_type": "markdown",
      "source": [
        "### (3) Interpret your results and describe the process until you get this final model version"
      ],
      "metadata": {
        "id": "gaGuZ_6YKDMZ"
      }
    },
    {
      "cell_type": "code",
      "source": [],
      "metadata": {
        "id": "LWUKJomwKFy3"
      },
      "execution_count": null,
      "outputs": []
    }
  ],
  "metadata": {
    "kernelspec": {
      "display_name": "Python 3",
      "language": "python",
      "name": "python3"
    },
    "language_info": {
      "codemirror_mode": {
        "name": "ipython",
        "version": 3
      },
      "file_extension": ".py",
      "mimetype": "text/x-python",
      "name": "python",
      "nbconvert_exporter": "python",
      "pygments_lexer": "ipython3",
      "version": "3.8.5"
    },
    "colab": {
      "provenance": []
    }
  },
  "nbformat": 4,
  "nbformat_minor": 0
}