{
 "cells": [
  {
   "cell_type": "markdown",
   "metadata": {
    "id": "1_-CT60ZOMLd"
   },
   "source": [
    "# Assignment 02\n",
    "__Please submit the Jupyter notebook (.ipynb file). File name should be \"Lastname_Firstname_assignment01.ipynb\". Provide step-by-step codes for grading and do not forget to run all your code before submitting.__\n",
    "\n",
    "* Please do not share works publicly on GitHub or other places until the deadline.\n",
    "* Do not forget that all the operations should be executed inside this notebook, you must not use external software (like Excel).\n",
    "* Most (if not all) the questions are solved using a few lines of code. If you are writing more than 10 lines in one question, probably the answer is not correct.\n",
    "* Some parts of coding can be identical if you work with your classmates but annotation/comment must be individual.\n",
    "* If you use code from external sources, you must cite the source.\n",
    "* If you have any concerns or struggles, do not hesitate to send an email\n",
    "* To write comments use the `#` at the beginning of the line."
   ]
  },
  {
   "cell_type": "markdown",
   "metadata": {
    "id": "cjWlFzHROMLf"
   },
   "source": [
    "# 1. Answer the questions:\n",
    "\n",
    "a) Which is the difference between using $y$ vs. $ŷ$?\n",
    "\n",
    "b) Which is the relationship between the covariance and the correlation metrics?\n",
    "\n",
    "c) If a model has a $R^2$ of 0.80, which is the interpretation?\n",
    "\n",
    "d) What metrics you would use to evaluate regression model performance?"
   ]
  },
  {
   "cell_type": "code",
   "execution_count": 1,
   "metadata": {
    "id": "a8f0m1h7OMLf"
   },
   "outputs": [],
   "source": [
    "# 𝑦 represents the actual of a Input variable, but y^ means the predicted value of that variable based on a model that estimated. Which measn 𝑦 is the true value, and y^ is a prediction of that value."
   ]
  },
  {
   "cell_type": "code",
   "execution_count": null,
   "metadata": {
    "id": "TIJdDGkBcpqb"
   },
   "outputs": [],
   "source": [
    "# Commom: Covariance and correlation are both measures of the linear relationship between two variables  Difference: they have different scale and interpretation. Covariance depends on the scales of the two variables, which means it is not suitable for comparsion across different scales datasets.positive covariance indicates that as one variable increases, the other variable also tends to increase, and vice versa. However, Correlation is a standardized measure of the linear relationship between two variables, which means it is not affected by the scale of the variables."
   ]
  },
  {
   "cell_type": "code",
   "execution_count": null,
   "metadata": {
    "id": "WKnC_AOScpyr"
   },
   "outputs": [],
   "source": [
    "# 𝑅^2 is an importante index to evaluation the model, which is calculated as the ratio of the explained variance to the total variance of the dependent variable.It range from 0 to 1, If R^2 equals to 0.8, indicating a great fit of the model to the data"
   ]
  },
  {
   "cell_type": "code",
   "execution_count": null,
   "metadata": {
    "id": "S4jz7EexcqCH"
   },
   "outputs": [],
   "source": [
    "# 1. Mean Squared Error (MSE) 2.Root Mean Squared Error (RMSE) 3.R^2 4.Objective"
   ]
  },
  {
   "cell_type": "markdown",
   "metadata": {
    "id": "27jB40CxOMLf"
   },
   "source": [
    "# 2. Regression cleaning and modeling\n",
    "You will train regression models to predict the market value of buildings provided by the NYC Department of Finance (DOF): Property Valuation and Assessment Data in https://data.cityofnewyork.us/resource/yjxr-fw8i. You can find the metadata in the website for interpretation.\n",
    "\n",
    "The objective is to estimate the variable \"Market Value\" or `fullval`. For this reason, the following columns should not be used in the modeling: `['avland','avtot', 'exland', 'extot','avland2', 'avtot2', 'exland2', 'extot2']`\n",
    "\n",
    "**Important**\n",
    "\n",
    "Remember that this is an iterative implementation, so try to perfom this process at least twice selecting different variables. You can either comment your old code with `#` or just describe the process in the last question.\n",
    "\n",
    "However, do not feel dissapointed if your regression metrics are not high, the objective of this assignment is to present you a real-world dataset and introduce you to the modeling process. For this assignment, the grading will not depend on how \"high\" is the evaluation metric of your model.\n",
    "\n"
   ]
  },
  {
   "cell_type": "markdown",
   "metadata": {
    "id": "E3aWXLgRHIbI"
   },
   "source": [
    "\n",
    "### (1) Load the dataset\n",
    "\n",
    "You can use the export feature in the main website or just copy the URL from the API: https://data.cityofnewyork.us/resource/yjxr-fw8i.csv"
   ]
  },
  {
   "cell_type": "code",
   "execution_count": 2,
   "metadata": {
    "id": "HDx8jf1UHVPI"
   },
   "outputs": [],
   "source": [
    "import warnings\n",
    "warnings.filterwarnings(\"ignore\")\n",
    "\n",
    "import pandas as pd\n",
    "import numpy as np\n",
    "from math import sqrt\n",
    "from regressors import stats\n",
    "\n",
    "from sklearn import model_selection\n",
    "from sklearn.linear_model import LinearRegression\n",
    "from sklearn.metrics import r2_score\n",
    "from sklearn.model_selection import train_test_split\n",
    "from sklearn.metrics import mean_squared_error\n",
    "\n",
    "import matplotlib.pyplot as plt"
   ]
  },
  {
   "cell_type": "code",
   "execution_count": 8,
   "metadata": {},
   "outputs": [
    {
     "data": {
      "text/html": [
       "<div>\n",
       "<style scoped>\n",
       "    .dataframe tbody tr th:only-of-type {\n",
       "        vertical-align: middle;\n",
       "    }\n",
       "\n",
       "    .dataframe tbody tr th {\n",
       "        vertical-align: top;\n",
       "    }\n",
       "\n",
       "    .dataframe thead th {\n",
       "        text-align: right;\n",
       "    }\n",
       "</style>\n",
       "<table border=\"1\" class=\"dataframe\">\n",
       "  <thead>\n",
       "    <tr style=\"text-align: right;\">\n",
       "      <th></th>\n",
       "      <th>bble</th>\n",
       "      <th>boro</th>\n",
       "      <th>block</th>\n",
       "      <th>lot</th>\n",
       "      <th>easement</th>\n",
       "      <th>owner</th>\n",
       "      <th>bldgcl</th>\n",
       "      <th>taxclass</th>\n",
       "      <th>ltfront</th>\n",
       "      <th>ltdepth</th>\n",
       "      <th>...</th>\n",
       "      <th>valtype</th>\n",
       "      <th>borough</th>\n",
       "      <th>latitude</th>\n",
       "      <th>longitude</th>\n",
       "      <th>community_board</th>\n",
       "      <th>council_district</th>\n",
       "      <th>census_tract</th>\n",
       "      <th>bin</th>\n",
       "      <th>nta</th>\n",
       "      <th>geocoded_column</th>\n",
       "    </tr>\n",
       "  </thead>\n",
       "  <tbody>\n",
       "    <tr>\n",
       "      <th>0</th>\n",
       "      <td>1000163859</td>\n",
       "      <td>1</td>\n",
       "      <td>16</td>\n",
       "      <td>3859</td>\n",
       "      <td>NaN</td>\n",
       "      <td>CHEN, QI TOM</td>\n",
       "      <td>R4</td>\n",
       "      <td>2</td>\n",
       "      <td>0</td>\n",
       "      <td>0</td>\n",
       "      <td>...</td>\n",
       "      <td>AC-TR</td>\n",
       "      <td>NaN</td>\n",
       "      <td>NaN</td>\n",
       "      <td>NaN</td>\n",
       "      <td>NaN</td>\n",
       "      <td>NaN</td>\n",
       "      <td>NaN</td>\n",
       "      <td>NaN</td>\n",
       "      <td>NaN</td>\n",
       "      <td>NaN</td>\n",
       "    </tr>\n",
       "    <tr>\n",
       "      <th>1</th>\n",
       "      <td>1000730028</td>\n",
       "      <td>1</td>\n",
       "      <td>73</td>\n",
       "      <td>28</td>\n",
       "      <td>NaN</td>\n",
       "      <td>NYC DSBS</td>\n",
       "      <td>V1</td>\n",
       "      <td>4</td>\n",
       "      <td>183</td>\n",
       "      <td>52</td>\n",
       "      <td>...</td>\n",
       "      <td>AC-TR</td>\n",
       "      <td>NaN</td>\n",
       "      <td>NaN</td>\n",
       "      <td>NaN</td>\n",
       "      <td>NaN</td>\n",
       "      <td>NaN</td>\n",
       "      <td>NaN</td>\n",
       "      <td>NaN</td>\n",
       "      <td>NaN</td>\n",
       "      <td>NaN</td>\n",
       "    </tr>\n",
       "    <tr>\n",
       "      <th>2</th>\n",
       "      <td>1000730029</td>\n",
       "      <td>1</td>\n",
       "      <td>73</td>\n",
       "      <td>29</td>\n",
       "      <td>NaN</td>\n",
       "      <td>NYC DSBS</td>\n",
       "      <td>Y7</td>\n",
       "      <td>4</td>\n",
       "      <td>90</td>\n",
       "      <td>500</td>\n",
       "      <td>...</td>\n",
       "      <td>AC-TR</td>\n",
       "      <td>NaN</td>\n",
       "      <td>NaN</td>\n",
       "      <td>NaN</td>\n",
       "      <td>NaN</td>\n",
       "      <td>NaN</td>\n",
       "      <td>NaN</td>\n",
       "      <td>NaN</td>\n",
       "      <td>NaN</td>\n",
       "      <td>NaN</td>\n",
       "    </tr>\n",
       "    <tr>\n",
       "      <th>3</th>\n",
       "      <td>1000297504</td>\n",
       "      <td>1</td>\n",
       "      <td>29</td>\n",
       "      <td>7504</td>\n",
       "      <td>NaN</td>\n",
       "      <td>NaN</td>\n",
       "      <td>R0</td>\n",
       "      <td>2</td>\n",
       "      <td>36</td>\n",
       "      <td>73</td>\n",
       "      <td>...</td>\n",
       "      <td>AC-TR</td>\n",
       "      <td>NaN</td>\n",
       "      <td>NaN</td>\n",
       "      <td>NaN</td>\n",
       "      <td>NaN</td>\n",
       "      <td>NaN</td>\n",
       "      <td>NaN</td>\n",
       "      <td>NaN</td>\n",
       "      <td>NaN</td>\n",
       "      <td>NaN</td>\n",
       "    </tr>\n",
       "    <tr>\n",
       "      <th>4</th>\n",
       "      <td>1000360012</td>\n",
       "      <td>1</td>\n",
       "      <td>36</td>\n",
       "      <td>12</td>\n",
       "      <td>NaN</td>\n",
       "      <td>NYC DSBS</td>\n",
       "      <td>Y7</td>\n",
       "      <td>4</td>\n",
       "      <td>534</td>\n",
       "      <td>604</td>\n",
       "      <td>...</td>\n",
       "      <td>AC-TR</td>\n",
       "      <td>NaN</td>\n",
       "      <td>NaN</td>\n",
       "      <td>NaN</td>\n",
       "      <td>NaN</td>\n",
       "      <td>NaN</td>\n",
       "      <td>NaN</td>\n",
       "      <td>NaN</td>\n",
       "      <td>NaN</td>\n",
       "      <td>NaN</td>\n",
       "    </tr>\n",
       "  </tbody>\n",
       "</table>\n",
       "<p>5 rows × 40 columns</p>\n",
       "</div>"
      ],
      "text/plain": [
       "         bble  boro  block   lot easement         owner bldgcl taxclass  \\\n",
       "0  1000163859     1     16  3859      NaN  CHEN, QI TOM     R4        2   \n",
       "1  1000730028     1     73    28      NaN      NYC DSBS     V1        4   \n",
       "2  1000730029     1     73    29      NaN      NYC DSBS     Y7        4   \n",
       "3  1000297504     1     29  7504      NaN           NaN     R0        2   \n",
       "4  1000360012     1     36    12      NaN      NYC DSBS     Y7        4   \n",
       "\n",
       "   ltfront  ltdepth  ... valtype  borough  latitude  longitude  \\\n",
       "0        0        0  ...   AC-TR      NaN       NaN        NaN   \n",
       "1      183       52  ...   AC-TR      NaN       NaN        NaN   \n",
       "2       90      500  ...   AC-TR      NaN       NaN        NaN   \n",
       "3       36       73  ...   AC-TR      NaN       NaN        NaN   \n",
       "4      534      604  ...   AC-TR      NaN       NaN        NaN   \n",
       "\n",
       "   community_board  council_district  census_tract  bin  nta  geocoded_column  \n",
       "0              NaN               NaN           NaN  NaN  NaN              NaN  \n",
       "1              NaN               NaN           NaN  NaN  NaN              NaN  \n",
       "2              NaN               NaN           NaN  NaN  NaN              NaN  \n",
       "3              NaN               NaN           NaN  NaN  NaN              NaN  \n",
       "4              NaN               NaN           NaN  NaN  NaN              NaN  \n",
       "\n",
       "[5 rows x 40 columns]"
      ]
     },
     "execution_count": 8,
     "metadata": {},
     "output_type": "execute_result"
    }
   ],
   "source": [
    "df = pd.read_csv('https://data.cityofnewyork.us/resource/yjxr-fw8i.csv')\n",
    "df.head(5)"
   ]
  },
  {
   "cell_type": "code",
   "execution_count": 12,
   "metadata": {},
   "outputs": [
    {
     "data": {
      "text/plain": [
       "Index(['avland', 'avtot', 'exland', 'extot', 'avland2', 'avtot2', 'exland2',\n",
       "       'extot2'],\n",
       "      dtype='object')"
      ]
     },
     "execution_count": 12,
     "metadata": {},
     "output_type": "execute_result"
    }
   ],
   "source": [
    "df = df[['avland','avtot', 'exland', 'extot','avland2', 'avtot2', 'exland2', 'extot2']]\n",
    "df.columns"
   ]
  },
  {
   "cell_type": "markdown",
   "metadata": {
    "id": "btllhj4hHWqf"
   },
   "source": [
    "### (2) Implement a brief exploratory data analysis\n",
    "\n",
    "You can use this space to describe overall patterns of your data as well as identifying outliers."
   ]
  },
  {
   "cell_type": "code",
   "execution_count": null,
   "metadata": {
    "id": "9JlA9CpqJ9SC"
   },
   "outputs": [],
   "source": []
  },
  {
   "cell_type": "markdown",
   "metadata": {
    "id": "8GEiSCAFIAZ_"
   },
   "source": [
    "### (3) Perform the cleaning and pre-processing\n",
    "\n",
    "Before starting the modeling tasks, you need to clean your dataset which includes manipulating those null values and reduce the dataframe to the essential columns. You can either drop rows, fill with zeros or other techniques you consider necessary.\n",
    "\n",
    "In this task you can drop the following columns:\n",
    "`['avland','avtot', 'exland', 'extot','avland2', 'avtot2', 'exland2', 'extot2']`"
   ]
  },
  {
   "cell_type": "code",
   "execution_count": null,
   "metadata": {
    "id": "3jw_r6qPJhDG"
   },
   "outputs": [],
   "source": []
  },
  {
   "cell_type": "markdown",
   "metadata": {
    "id": "uS9KUXWeOMLf"
   },
   "source": [
    "### (4) Define target variable ($y$) and predictors ($X$) and split data into training and test data\n",
    "    Since we are predicting the market value, 'fullval' would be your target column. Feel free to use the columns you find more useful."
   ]
  },
  {
   "cell_type": "code",
   "execution_count": null,
   "metadata": {
    "id": "XnCpEnOiOMLg"
   },
   "outputs": [],
   "source": []
  },
  {
   "cell_type": "markdown",
   "metadata": {
    "id": "pa1H3X-sOMLg"
   },
   "source": [
    "# 3. Create OLS model:\n",
    "### (1) Show train and test results \n",
    "    Please use R-squared and Mean Squared Error (MSE) to evaluate your model"
   ]
  },
  {
   "cell_type": "code",
   "execution_count": null,
   "metadata": {
    "id": "gCwjF58cOMLg"
   },
   "outputs": [],
   "source": []
  },
  {
   "cell_type": "markdown",
   "metadata": {
    "id": "yq1yj4bhOMLg"
   },
   "source": [
    "### (2) Show regression coefficients"
   ]
  },
  {
   "cell_type": "code",
   "execution_count": null,
   "metadata": {
    "id": "yHTmi2rOOMLg"
   },
   "outputs": [],
   "source": []
  },
  {
   "cell_type": "markdown",
   "metadata": {
    "id": "gaGuZ_6YKDMZ"
   },
   "source": [
    "### (3) Interpret your results and describe the process until you get this final model version"
   ]
  },
  {
   "cell_type": "code",
   "execution_count": null,
   "metadata": {
    "id": "LWUKJomwKFy3"
   },
   "outputs": [],
   "source": []
  }
 ],
 "metadata": {
  "colab": {
   "provenance": []
  },
  "kernelspec": {
   "display_name": "Python 3 (ipykernel)",
   "language": "python",
   "name": "python3"
  },
  "language_info": {
   "codemirror_mode": {
    "name": "ipython",
    "version": 3
   },
   "file_extension": ".py",
   "mimetype": "text/x-python",
   "name": "python",
   "nbconvert_exporter": "python",
   "pygments_lexer": "ipython3",
   "version": "3.9.13"
  }
 },
 "nbformat": 4,
 "nbformat_minor": 1
}
