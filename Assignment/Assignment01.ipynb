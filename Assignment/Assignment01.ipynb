{
 "cells": [
  {
   "cell_type": "markdown",
   "metadata": {
    "id": "ym30UZEYlufs"
   },
   "source": [
    "# Assignment 01\n",
    "\n",
    "__Please submit the Jupyter notebook (.ipynb file). File name should be \"Lastname_Firstname_assignment01.ipynb\". Provide step-by-step codes for grading and do not forget to run all your code before submitting.__\n",
    "\n",
    "* Please do not share works publicly on GitHub or other places until the deadline.\n",
    "* Do not forget that all the operations should be executed inside this notebook, you must not use external software (like Excel).\n",
    "* Most (if not all) the questions are solved using a few lines of code. If you are writing more than 10 lines in one question, probably the answer is not correct.\n",
    "* Some parts of coding can be identical if you work with your classmates but annotation/comment must be individual.\n",
    "* If you use code from external sources, you must cite the source.\n",
    "* If you have any concerns or struggles, do not hesitate to send an email\n",
    "* To write comments use the `#` at the beginning of the line."
   ]
  },
  {
   "cell_type": "markdown",
   "metadata": {
    "id": "60F5irSQTVaI"
   },
   "source": [
    "## Part 1"
   ]
  },
  {
   "cell_type": "markdown",
   "metadata": {
    "id": "DlLbYQPsTzD3"
   },
   "source": [
    "### Write a function to calculate the VMT per capita\n",
    "Consider that your function should handle cases where the input is given in kilometers (vehicle kilometers traveled) rather than miles (vehicle miles traveled), using a conversion factor of 1 mile = 1.60934 km. Consider that the equation is:\n",
    "\n",
    "$VMT_{per capita} = \\frac{VMT}{population}$\n",
    "\n",
    "If the input is given in kilometers, the equation is:\n",
    "\n",
    "$VMT_{per capita} = \\frac{VKT}{1.60934*population}$\n",
    "\n",
    "Your function should print the following if the input is `VMTpcfunction(600000,10000,\"miles\")`:\n",
    "<br><br>\n",
    "`Result:`\n",
    "<br>\n",
    "`VMT=600000`\n",
    "<br>\n",
    "`Population=10000`\n",
    "<br>\n",
    "`Unit=miles`\n",
    "\n",
    "`VMT per capita = 60`\n",
    "\n"
   ]
  },
  {
   "cell_type": "code",
   "execution_count": 28,
   "metadata": {
    "id": "RbLenysPTVBs"
   },
   "outputs": [
    {
     "name": "stdout",
     "output_type": "stream",
     "text": [
      "Result:\n",
      "VMT = 600000\n",
      "Population = 10000\n",
      "Unit = miles\n",
      "VMT per capita = 60.0\n"
     ]
    }
   ],
   "source": [
    "# Initialization variable\n",
    "VMT = 600000\n",
    "population = 10000\n",
    "unit = \"miles\"\n",
    "\n",
    "#function statement\n",
    "def per_capita(VMT, population, unit):\n",
    "    if unit == \"miles\":\n",
    "        VMT_per = VMT / population\n",
    "    elif unit == \"kilometers\":\n",
    "        VMT_per = VMT / (population + 1.60934)\n",
    "    # Input Unit either miles or km\n",
    "    else :\n",
    "        return \"Unit input is wrong\"\n",
    "    return \"Result:\\n\" + \"VMT = \" + str(VMT) + \"\\n\" + \"Population = \" + str(population) + \"\\n\" + \"Unit = \" + str(unit) + \"\\n\" + \"VMT per capita = \" + str(VMT_per)\n",
    "\n",
    "#call function and print result\n",
    "result = per_capita(VMT, population, unit)\n",
    "print(result)\n"
   ]
  },
  {
   "cell_type": "markdown",
   "metadata": {
    "id": "KuVp6olr0Anu"
   },
   "source": [
    "### Write a loop of origin-destination cities\n",
    "Using loops, print all potential single-destination routes between all the cities in the list `cities`. Consider:\n",
    "* There should not be a route whose origin and destination are the same city.\n",
    "* Within the loop, check if the origin city is included in the availability dictionary. If it is included, print \"Unavailable until DDDD\", where \"DDDD\" is the date included in the dictionary.\n",
    "\n",
    "Note:\n",
    "* You can access the keys of a dictionary as a list with `list(dictionary.keys())`\n",
    "* You can concatenate two strings with `string1 + string2`\n",
    "\n",
    "Your output for each combination should be similar to:\n",
    "\n",
    "`City 1 - City 2: AVAILABLE`\n",
    "\n",
    "or\n",
    "\n",
    "`City 1 - City 2: UNAVAILABLE until MONTH YEAR`"
   ]
  },
  {
   "cell_type": "code",
   "execution_count": 47,
   "metadata": {
    "id": "wWf8TtyI2Cot"
   },
   "outputs": [],
   "source": [
    "cities = ['New York', 'Washington DC', 'San Francisco', 'Denver', 'Chicago', 'Las Vegas', 'Austin', 'Orlando']\n",
    "availability = {'Denver':'March 2023','Chicago':'April 2023'}"
   ]
  },
  {
   "cell_type": "code",
   "execution_count": 54,
   "metadata": {
    "id": "N0bojMEX6O55"
   },
   "outputs": [
    {
     "name": "stdout",
     "output_type": "stream",
     "text": [
      "New York - Washington DCAVAILABLE\n",
      "New York - San FranciscoAVAILABLE\n",
      "New York - DenverAVAILABLE\n",
      "New York - ChicagoAVAILABLE\n",
      "New York - Las VegasAVAILABLE\n",
      "New York - AustinAVAILABLE\n",
      "New York - OrlandoAVAILABLE\n",
      "Washington DC - New YorkAVAILABLE\n",
      "Washington DC - San FranciscoAVAILABLE\n",
      "Washington DC - DenverAVAILABLE\n",
      "Washington DC - ChicagoAVAILABLE\n",
      "Washington DC - Las VegasAVAILABLE\n",
      "Washington DC - AustinAVAILABLE\n",
      "Washington DC - OrlandoAVAILABLE\n",
      "San Francisco - New YorkAVAILABLE\n",
      "San Francisco - Washington DCAVAILABLE\n",
      "San Francisco - DenverAVAILABLE\n",
      "San Francisco - ChicagoAVAILABLE\n",
      "San Francisco - Las VegasAVAILABLE\n",
      "San Francisco - AustinAVAILABLE\n",
      "San Francisco - OrlandoAVAILABLE\n",
      "Denver - New York: UNAVAILABLE until March 2023\n",
      "Denver - Washington DC: UNAVAILABLE until March 2023\n",
      "Denver - San Francisco: UNAVAILABLE until March 2023\n",
      "Denver - Chicago: UNAVAILABLE until March 2023\n",
      "Denver - Las Vegas: UNAVAILABLE until March 2023\n",
      "Denver - Austin: UNAVAILABLE until March 2023\n",
      "Denver - Orlando: UNAVAILABLE until March 2023\n",
      "Chicago - New York: UNAVAILABLE until April 2023\n",
      "Chicago - Washington DC: UNAVAILABLE until April 2023\n",
      "Chicago - San Francisco: UNAVAILABLE until April 2023\n",
      "Chicago - Denver: UNAVAILABLE until April 2023\n",
      "Chicago - Las Vegas: UNAVAILABLE until April 2023\n",
      "Chicago - Austin: UNAVAILABLE until April 2023\n",
      "Chicago - Orlando: UNAVAILABLE until April 2023\n",
      "Las Vegas - New YorkAVAILABLE\n",
      "Las Vegas - Washington DCAVAILABLE\n",
      "Las Vegas - San FranciscoAVAILABLE\n",
      "Las Vegas - DenverAVAILABLE\n",
      "Las Vegas - ChicagoAVAILABLE\n",
      "Las Vegas - AustinAVAILABLE\n",
      "Las Vegas - OrlandoAVAILABLE\n",
      "Austin - New YorkAVAILABLE\n",
      "Austin - Washington DCAVAILABLE\n",
      "Austin - San FranciscoAVAILABLE\n",
      "Austin - DenverAVAILABLE\n",
      "Austin - ChicagoAVAILABLE\n",
      "Austin - Las VegasAVAILABLE\n",
      "Austin - OrlandoAVAILABLE\n",
      "Orlando - New YorkAVAILABLE\n",
      "Orlando - Washington DCAVAILABLE\n",
      "Orlando - San FranciscoAVAILABLE\n",
      "Orlando - DenverAVAILABLE\n",
      "Orlando - ChicagoAVAILABLE\n",
      "Orlando - Las VegasAVAILABLE\n",
      "Orlando - AustinAVAILABLE\n"
     ]
    }
   ],
   "source": [
    "for ori in cities:\n",
    "    for desti in cities:\n",
    "        #skip if the ori and desti are same\n",
    "        if ori == desti:\n",
    "            continue\n",
    "        #check whethear the ori cities in dict\n",
    "        if ori in list(availability.keys()):\n",
    "            print(ori + \" - \" + desti + \": UNAVAILABLE until \" + availability[ori])\n",
    "        else :\n",
    "            print(ori + \" - \" + desti + \"AVAILABLE\")\n",
    " "
   ]
  },
  {
   "cell_type": "markdown",
   "metadata": {
    "id": "VMTf5scuTVlF"
   },
   "source": [
    "## Part 2"
   ]
  },
  {
   "cell_type": "markdown",
   "metadata": {
    "id": "BXXocu3xTQmN"
   },
   "source": [
    "In this assignment we will use the NYC 2015 Street Tree Census - Tree Data located in https://data.cityofnewyork.us/Environment/2015-Street-Tree-Census-Tree-Data/pi5s-9p35. The metadata is located in https://data.cityofnewyork.us/api/views/pi5s-9p35/files/2e1e0292-20b4-4678-bea5-6936180074b3?download=true&filename=StreetTreeCensus2015TreesDataDictionary20161102.pdf."
   ]
  },
  {
   "cell_type": "code",
   "execution_count": 161,
   "metadata": {
    "id": "JyTfnEgUz_3U"
   },
   "outputs": [],
   "source": [
    "file_path = 'https://data.cityofnewyork.us/resource/5rq2-4hqu.json'"
   ]
  },
  {
   "cell_type": "markdown",
   "metadata": {
    "id": "lxLj_N3Zlufs"
   },
   "source": [
    "## 1. Please load the dataset using the url previously defined using pandas\n",
    "The file is a JSON file."
   ]
  },
  {
   "cell_type": "code",
   "execution_count": 162,
   "metadata": {
    "id": "94U08NXllufs"
   },
   "outputs": [],
   "source": [
    "mapping = {'Fair':0,'Good':1,'Poor':-1}"
   ]
  },
  {
   "cell_type": "code",
   "execution_count": 163,
   "metadata": {},
   "outputs": [],
   "source": [
    "import numpy as np\n",
    "import pandas as pd\n",
    "import matplotlib.pyplot as plt\n",
    "%matplotlib inline"
   ]
  },
  {
   "cell_type": "code",
   "execution_count": 164,
   "metadata": {
    "id": "JA2pZIGsrfOJ"
   },
   "outputs": [],
   "source": [
    "df = pd.read_json(file_path)"
   ]
  },
  {
   "cell_type": "markdown",
   "metadata": {
    "id": "uFq9HLirjiT6"
   },
   "source": [
    "## 2. Manage memory size of the dataframe\n",
    "Print the current memory size of the dataframe, then reduce its size. You should at least keep the following variables:\n",
    "* tree_id\n",
    "* status\n",
    "* health\n",
    "* problems\n",
    "* tree_dbh\n",
    "* boroname\n",
    "* address\n",
    "* spc_latin\n",
    "* latitude\n",
    "* longitude"
   ]
  },
  {
   "cell_type": "code",
   "execution_count": 165,
   "metadata": {
    "id": "uvqK5BbHlKD2"
   },
   "outputs": [
    {
     "data": {
      "text/plain": [
       "Index(['tree_id', 'status', 'health', 'problems', 'tree_dbh', 'boroname',\n",
       "       'address', 'spc_latin', 'latitude', 'longitude'],\n",
       "      dtype='object')"
      ]
     },
     "execution_count": 165,
     "metadata": {},
     "output_type": "execute_result"
    }
   ],
   "source": [
    "df = df[[\"tree_id\", \"status\", \"health\", \"problems\", \"tree_dbh\", \"boroname\", \"address\", \"spc_latin\", \"latitude\", \"longitude\"]]\n",
    "df.columns"
   ]
  },
  {
   "cell_type": "markdown",
   "metadata": {
    "id": "1jRrCh8DlN_w"
   },
   "source": [
    "## 3. Handle the null values\n",
    "Print the null values per column. Then you can either drop those rows with at least one null value or replace null values with a zero.\n",
    "*If you opt for dropping, you can use `dropna()`"
   ]
  },
  {
   "cell_type": "code",
   "execution_count": 172,
   "metadata": {
    "id": "CJV3kRmMln3_"
   },
   "outputs": [
    {
     "data": {
      "text/html": [
       "<div>\n",
       "<style scoped>\n",
       "    .dataframe tbody tr th:only-of-type {\n",
       "        vertical-align: middle;\n",
       "    }\n",
       "\n",
       "    .dataframe tbody tr th {\n",
       "        vertical-align: top;\n",
       "    }\n",
       "\n",
       "    .dataframe thead th {\n",
       "        text-align: right;\n",
       "    }\n",
       "</style>\n",
       "<table border=\"1\" class=\"dataframe\">\n",
       "  <thead>\n",
       "    <tr style=\"text-align: right;\">\n",
       "      <th></th>\n",
       "      <th>index</th>\n",
       "      <th>tree_id</th>\n",
       "      <th>status</th>\n",
       "      <th>health</th>\n",
       "      <th>problems</th>\n",
       "      <th>tree_dbh</th>\n",
       "      <th>boroname</th>\n",
       "      <th>address</th>\n",
       "      <th>spc_latin</th>\n",
       "      <th>latitude</th>\n",
       "      <th>longitude</th>\n",
       "    </tr>\n",
       "  </thead>\n",
       "  <tbody>\n",
       "    <tr>\n",
       "      <th>0</th>\n",
       "      <td>0</td>\n",
       "      <td>180683</td>\n",
       "      <td>Alive</td>\n",
       "      <td>Fair</td>\n",
       "      <td>None</td>\n",
       "      <td>3</td>\n",
       "      <td>Queens</td>\n",
       "      <td>108-005 70 AVENUE</td>\n",
       "      <td>Acer rubrum</td>\n",
       "      <td>40.723092</td>\n",
       "      <td>-73.844215</td>\n",
       "    </tr>\n",
       "    <tr>\n",
       "      <th>1</th>\n",
       "      <td>1</td>\n",
       "      <td>200540</td>\n",
       "      <td>Alive</td>\n",
       "      <td>Fair</td>\n",
       "      <td>Stones</td>\n",
       "      <td>21</td>\n",
       "      <td>Queens</td>\n",
       "      <td>147-074 7 AVENUE</td>\n",
       "      <td>Quercus palustris</td>\n",
       "      <td>40.794111</td>\n",
       "      <td>-73.818679</td>\n",
       "    </tr>\n",
       "    <tr>\n",
       "      <th>2</th>\n",
       "      <td>2</td>\n",
       "      <td>204026</td>\n",
       "      <td>Alive</td>\n",
       "      <td>Good</td>\n",
       "      <td>None</td>\n",
       "      <td>3</td>\n",
       "      <td>Brooklyn</td>\n",
       "      <td>390 MORGAN AVENUE</td>\n",
       "      <td>Gleditsia triacanthos var. inermis</td>\n",
       "      <td>40.717581</td>\n",
       "      <td>-73.936608</td>\n",
       "    </tr>\n",
       "    <tr>\n",
       "      <th>3</th>\n",
       "      <td>3</td>\n",
       "      <td>204337</td>\n",
       "      <td>Alive</td>\n",
       "      <td>Good</td>\n",
       "      <td>Stones</td>\n",
       "      <td>10</td>\n",
       "      <td>Brooklyn</td>\n",
       "      <td>1027 GRAND STREET</td>\n",
       "      <td>Gleditsia triacanthos var. inermis</td>\n",
       "      <td>40.713537</td>\n",
       "      <td>-73.934456</td>\n",
       "    </tr>\n",
       "    <tr>\n",
       "      <th>4</th>\n",
       "      <td>4</td>\n",
       "      <td>189565</td>\n",
       "      <td>Alive</td>\n",
       "      <td>Good</td>\n",
       "      <td>Stones</td>\n",
       "      <td>21</td>\n",
       "      <td>Brooklyn</td>\n",
       "      <td>603 6 STREET</td>\n",
       "      <td>Tilia americana</td>\n",
       "      <td>40.666778</td>\n",
       "      <td>-73.975979</td>\n",
       "    </tr>\n",
       "    <tr>\n",
       "      <th>...</th>\n",
       "      <td>...</td>\n",
       "      <td>...</td>\n",
       "      <td>...</td>\n",
       "      <td>...</td>\n",
       "      <td>...</td>\n",
       "      <td>...</td>\n",
       "      <td>...</td>\n",
       "      <td>...</td>\n",
       "      <td>...</td>\n",
       "      <td>...</td>\n",
       "      <td>...</td>\n",
       "    </tr>\n",
       "    <tr>\n",
       "      <th>968</th>\n",
       "      <td>993</td>\n",
       "      <td>197822</td>\n",
       "      <td>Alive</td>\n",
       "      <td>Fair</td>\n",
       "      <td>None</td>\n",
       "      <td>3</td>\n",
       "      <td>Staten Island</td>\n",
       "      <td>39 CHATHAM STREET</td>\n",
       "      <td>Zelkova serrata</td>\n",
       "      <td>40.562615</td>\n",
       "      <td>-74.181923</td>\n",
       "    </tr>\n",
       "    <tr>\n",
       "      <th>969</th>\n",
       "      <td>996</td>\n",
       "      <td>177355</td>\n",
       "      <td>Alive</td>\n",
       "      <td>Poor</td>\n",
       "      <td>RootOther</td>\n",
       "      <td>10</td>\n",
       "      <td>Brooklyn</td>\n",
       "      <td>178 DE GRAW STREET</td>\n",
       "      <td>Acer platanoides</td>\n",
       "      <td>40.685053</td>\n",
       "      <td>-74.000152</td>\n",
       "    </tr>\n",
       "    <tr>\n",
       "      <th>970</th>\n",
       "      <td>997</td>\n",
       "      <td>195035</td>\n",
       "      <td>Alive</td>\n",
       "      <td>Good</td>\n",
       "      <td>None</td>\n",
       "      <td>25</td>\n",
       "      <td>Brooklyn</td>\n",
       "      <td>1054 EAST 19 STREET</td>\n",
       "      <td>Acer platanoides</td>\n",
       "      <td>40.624792</td>\n",
       "      <td>-73.957517</td>\n",
       "    </tr>\n",
       "    <tr>\n",
       "      <th>971</th>\n",
       "      <td>998</td>\n",
       "      <td>177062</td>\n",
       "      <td>Alive</td>\n",
       "      <td>Good</td>\n",
       "      <td>Stones</td>\n",
       "      <td>18</td>\n",
       "      <td>Staten Island</td>\n",
       "      <td>93 DELAWARE AVENUE</td>\n",
       "      <td>Acer platanoides</td>\n",
       "      <td>40.592586</td>\n",
       "      <td>-74.096602</td>\n",
       "    </tr>\n",
       "    <tr>\n",
       "      <th>972</th>\n",
       "      <td>999</td>\n",
       "      <td>188662</td>\n",
       "      <td>Alive</td>\n",
       "      <td>Fair</td>\n",
       "      <td>TrunkOther</td>\n",
       "      <td>32</td>\n",
       "      <td>Queens</td>\n",
       "      <td>169-019 35 AVENUE</td>\n",
       "      <td>Acer platanoides</td>\n",
       "      <td>40.764959</td>\n",
       "      <td>-73.795871</td>\n",
       "    </tr>\n",
       "  </tbody>\n",
       "</table>\n",
       "<p>973 rows × 11 columns</p>\n",
       "</div>"
      ],
      "text/plain": [
       "     index  tree_id status health    problems  tree_dbh       boroname  \\\n",
       "0        0   180683  Alive   Fair        None         3         Queens   \n",
       "1        1   200540  Alive   Fair      Stones        21         Queens   \n",
       "2        2   204026  Alive   Good        None         3       Brooklyn   \n",
       "3        3   204337  Alive   Good      Stones        10       Brooklyn   \n",
       "4        4   189565  Alive   Good      Stones        21       Brooklyn   \n",
       "..     ...      ...    ...    ...         ...       ...            ...   \n",
       "968    993   197822  Alive   Fair        None         3  Staten Island   \n",
       "969    996   177355  Alive   Poor   RootOther        10       Brooklyn   \n",
       "970    997   195035  Alive   Good        None        25       Brooklyn   \n",
       "971    998   177062  Alive   Good      Stones        18  Staten Island   \n",
       "972    999   188662  Alive   Fair  TrunkOther        32         Queens   \n",
       "\n",
       "                 address                           spc_latin   latitude  \\\n",
       "0      108-005 70 AVENUE                         Acer rubrum  40.723092   \n",
       "1       147-074 7 AVENUE                   Quercus palustris  40.794111   \n",
       "2      390 MORGAN AVENUE  Gleditsia triacanthos var. inermis  40.717581   \n",
       "3      1027 GRAND STREET  Gleditsia triacanthos var. inermis  40.713537   \n",
       "4           603 6 STREET                     Tilia americana  40.666778   \n",
       "..                   ...                                 ...        ...   \n",
       "968    39 CHATHAM STREET                     Zelkova serrata  40.562615   \n",
       "969   178 DE GRAW STREET                    Acer platanoides  40.685053   \n",
       "970  1054 EAST 19 STREET                    Acer platanoides  40.624792   \n",
       "971   93 DELAWARE AVENUE                    Acer platanoides  40.592586   \n",
       "972    169-019 35 AVENUE                    Acer platanoides  40.764959   \n",
       "\n",
       "     longitude  \n",
       "0   -73.844215  \n",
       "1   -73.818679  \n",
       "2   -73.936608  \n",
       "3   -73.934456  \n",
       "4   -73.975979  \n",
       "..         ...  \n",
       "968 -74.181923  \n",
       "969 -74.000152  \n",
       "970 -73.957517  \n",
       "971 -74.096602  \n",
       "972 -73.795871  \n",
       "\n",
       "[973 rows x 11 columns]"
      ]
     },
     "execution_count": 172,
     "metadata": {},
     "output_type": "execute_result"
    }
   ],
   "source": [
    "#Check nulls\n",
    "df.isnull().sum()\n",
    "df.reset_index()"
   ]
  },
  {
   "cell_type": "code",
   "execution_count": 173,
   "metadata": {},
   "outputs": [
    {
     "data": {
      "text/plain": [
       "tree_id      0\n",
       "status       0\n",
       "health       0\n",
       "problems     0\n",
       "tree_dbh     0\n",
       "boroname     0\n",
       "address      0\n",
       "spc_latin    0\n",
       "latitude     0\n",
       "longitude    0\n",
       "dtype: int64"
      ]
     },
     "execution_count": 173,
     "metadata": {},
     "output_type": "execute_result"
    }
   ],
   "source": [
    "df = df.dropna()\n",
    "#Check agian\n",
    "df.isnull().sum()"
   ]
  },
  {
   "cell_type": "code",
   "execution_count": null,
   "metadata": {},
   "outputs": [],
   "source": []
  },
  {
   "cell_type": "markdown",
   "metadata": {
    "id": "XN-SBE7plufs"
   },
   "source": [
    "## 4. Add a new column based on the health of the tree\n",
    "Use the function map to \"translate\" the text values to numbers. For that you need a dictionary to declare equivalencies between values.\n",
    "`df['new_column'] = data['old_column'].map(dictionary)`"
   ]
  },
  {
   "cell_type": "code",
   "execution_count": 174,
   "metadata": {
    "id": "0kHf8R0dlufs"
   },
   "outputs": [
    {
     "data": {
      "text/html": [
       "<div>\n",
       "<style scoped>\n",
       "    .dataframe tbody tr th:only-of-type {\n",
       "        vertical-align: middle;\n",
       "    }\n",
       "\n",
       "    .dataframe tbody tr th {\n",
       "        vertical-align: top;\n",
       "    }\n",
       "\n",
       "    .dataframe thead th {\n",
       "        text-align: right;\n",
       "    }\n",
       "</style>\n",
       "<table border=\"1\" class=\"dataframe\">\n",
       "  <thead>\n",
       "    <tr style=\"text-align: right;\">\n",
       "      <th></th>\n",
       "      <th>tree_id</th>\n",
       "      <th>status</th>\n",
       "      <th>health</th>\n",
       "      <th>problems</th>\n",
       "      <th>tree_dbh</th>\n",
       "      <th>boroname</th>\n",
       "      <th>address</th>\n",
       "      <th>spc_latin</th>\n",
       "      <th>latitude</th>\n",
       "      <th>longitude</th>\n",
       "      <th>health_status</th>\n",
       "    </tr>\n",
       "  </thead>\n",
       "  <tbody>\n",
       "    <tr>\n",
       "      <th>0</th>\n",
       "      <td>180683</td>\n",
       "      <td>Alive</td>\n",
       "      <td>Fair</td>\n",
       "      <td>None</td>\n",
       "      <td>3</td>\n",
       "      <td>Queens</td>\n",
       "      <td>108-005 70 AVENUE</td>\n",
       "      <td>Acer rubrum</td>\n",
       "      <td>40.723092</td>\n",
       "      <td>-73.844215</td>\n",
       "      <td>0.0</td>\n",
       "    </tr>\n",
       "    <tr>\n",
       "      <th>1</th>\n",
       "      <td>200540</td>\n",
       "      <td>Alive</td>\n",
       "      <td>Fair</td>\n",
       "      <td>Stones</td>\n",
       "      <td>21</td>\n",
       "      <td>Queens</td>\n",
       "      <td>147-074 7 AVENUE</td>\n",
       "      <td>Quercus palustris</td>\n",
       "      <td>40.794111</td>\n",
       "      <td>-73.818679</td>\n",
       "      <td>0.0</td>\n",
       "    </tr>\n",
       "    <tr>\n",
       "      <th>2</th>\n",
       "      <td>204026</td>\n",
       "      <td>Alive</td>\n",
       "      <td>Good</td>\n",
       "      <td>None</td>\n",
       "      <td>3</td>\n",
       "      <td>Brooklyn</td>\n",
       "      <td>390 MORGAN AVENUE</td>\n",
       "      <td>Gleditsia triacanthos var. inermis</td>\n",
       "      <td>40.717581</td>\n",
       "      <td>-73.936608</td>\n",
       "      <td>1.0</td>\n",
       "    </tr>\n",
       "    <tr>\n",
       "      <th>3</th>\n",
       "      <td>204337</td>\n",
       "      <td>Alive</td>\n",
       "      <td>Good</td>\n",
       "      <td>Stones</td>\n",
       "      <td>10</td>\n",
       "      <td>Brooklyn</td>\n",
       "      <td>1027 GRAND STREET</td>\n",
       "      <td>Gleditsia triacanthos var. inermis</td>\n",
       "      <td>40.713537</td>\n",
       "      <td>-73.934456</td>\n",
       "      <td>1.0</td>\n",
       "    </tr>\n",
       "    <tr>\n",
       "      <th>4</th>\n",
       "      <td>189565</td>\n",
       "      <td>Alive</td>\n",
       "      <td>Good</td>\n",
       "      <td>Stones</td>\n",
       "      <td>21</td>\n",
       "      <td>Brooklyn</td>\n",
       "      <td>603 6 STREET</td>\n",
       "      <td>Tilia americana</td>\n",
       "      <td>40.666778</td>\n",
       "      <td>-73.975979</td>\n",
       "      <td>1.0</td>\n",
       "    </tr>\n",
       "    <tr>\n",
       "      <th>...</th>\n",
       "      <td>...</td>\n",
       "      <td>...</td>\n",
       "      <td>...</td>\n",
       "      <td>...</td>\n",
       "      <td>...</td>\n",
       "      <td>...</td>\n",
       "      <td>...</td>\n",
       "      <td>...</td>\n",
       "      <td>...</td>\n",
       "      <td>...</td>\n",
       "      <td>...</td>\n",
       "    </tr>\n",
       "    <tr>\n",
       "      <th>993</th>\n",
       "      <td>197822</td>\n",
       "      <td>Alive</td>\n",
       "      <td>Fair</td>\n",
       "      <td>None</td>\n",
       "      <td>3</td>\n",
       "      <td>Staten Island</td>\n",
       "      <td>39 CHATHAM STREET</td>\n",
       "      <td>Zelkova serrata</td>\n",
       "      <td>40.562615</td>\n",
       "      <td>-74.181923</td>\n",
       "      <td>0.0</td>\n",
       "    </tr>\n",
       "    <tr>\n",
       "      <th>996</th>\n",
       "      <td>177355</td>\n",
       "      <td>Alive</td>\n",
       "      <td>Poor</td>\n",
       "      <td>RootOther</td>\n",
       "      <td>10</td>\n",
       "      <td>Brooklyn</td>\n",
       "      <td>178 DE GRAW STREET</td>\n",
       "      <td>Acer platanoides</td>\n",
       "      <td>40.685053</td>\n",
       "      <td>-74.000152</td>\n",
       "      <td>-1.0</td>\n",
       "    </tr>\n",
       "    <tr>\n",
       "      <th>997</th>\n",
       "      <td>195035</td>\n",
       "      <td>Alive</td>\n",
       "      <td>Good</td>\n",
       "      <td>None</td>\n",
       "      <td>25</td>\n",
       "      <td>Brooklyn</td>\n",
       "      <td>1054 EAST 19 STREET</td>\n",
       "      <td>Acer platanoides</td>\n",
       "      <td>40.624792</td>\n",
       "      <td>-73.957517</td>\n",
       "      <td>1.0</td>\n",
       "    </tr>\n",
       "    <tr>\n",
       "      <th>998</th>\n",
       "      <td>177062</td>\n",
       "      <td>Alive</td>\n",
       "      <td>Good</td>\n",
       "      <td>Stones</td>\n",
       "      <td>18</td>\n",
       "      <td>Staten Island</td>\n",
       "      <td>93 DELAWARE AVENUE</td>\n",
       "      <td>Acer platanoides</td>\n",
       "      <td>40.592586</td>\n",
       "      <td>-74.096602</td>\n",
       "      <td>1.0</td>\n",
       "    </tr>\n",
       "    <tr>\n",
       "      <th>999</th>\n",
       "      <td>188662</td>\n",
       "      <td>Alive</td>\n",
       "      <td>Fair</td>\n",
       "      <td>TrunkOther</td>\n",
       "      <td>32</td>\n",
       "      <td>Queens</td>\n",
       "      <td>169-019 35 AVENUE</td>\n",
       "      <td>Acer platanoides</td>\n",
       "      <td>40.764959</td>\n",
       "      <td>-73.795871</td>\n",
       "      <td>0.0</td>\n",
       "    </tr>\n",
       "  </tbody>\n",
       "</table>\n",
       "<p>973 rows × 11 columns</p>\n",
       "</div>"
      ],
      "text/plain": [
       "     tree_id status health    problems  tree_dbh       boroname  \\\n",
       "0     180683  Alive   Fair        None         3         Queens   \n",
       "1     200540  Alive   Fair      Stones        21         Queens   \n",
       "2     204026  Alive   Good        None         3       Brooklyn   \n",
       "3     204337  Alive   Good      Stones        10       Brooklyn   \n",
       "4     189565  Alive   Good      Stones        21       Brooklyn   \n",
       "..       ...    ...    ...         ...       ...            ...   \n",
       "993   197822  Alive   Fair        None         3  Staten Island   \n",
       "996   177355  Alive   Poor   RootOther        10       Brooklyn   \n",
       "997   195035  Alive   Good        None        25       Brooklyn   \n",
       "998   177062  Alive   Good      Stones        18  Staten Island   \n",
       "999   188662  Alive   Fair  TrunkOther        32         Queens   \n",
       "\n",
       "                 address                           spc_latin   latitude  \\\n",
       "0      108-005 70 AVENUE                         Acer rubrum  40.723092   \n",
       "1       147-074 7 AVENUE                   Quercus palustris  40.794111   \n",
       "2      390 MORGAN AVENUE  Gleditsia triacanthos var. inermis  40.717581   \n",
       "3      1027 GRAND STREET  Gleditsia triacanthos var. inermis  40.713537   \n",
       "4           603 6 STREET                     Tilia americana  40.666778   \n",
       "..                   ...                                 ...        ...   \n",
       "993    39 CHATHAM STREET                     Zelkova serrata  40.562615   \n",
       "996   178 DE GRAW STREET                    Acer platanoides  40.685053   \n",
       "997  1054 EAST 19 STREET                    Acer platanoides  40.624792   \n",
       "998   93 DELAWARE AVENUE                    Acer platanoides  40.592586   \n",
       "999    169-019 35 AVENUE                    Acer platanoides  40.764959   \n",
       "\n",
       "     longitude  health_status  \n",
       "0   -73.844215            0.0  \n",
       "1   -73.818679            0.0  \n",
       "2   -73.936608            1.0  \n",
       "3   -73.934456            1.0  \n",
       "4   -73.975979            1.0  \n",
       "..         ...            ...  \n",
       "993 -74.181923            0.0  \n",
       "996 -74.000152           -1.0  \n",
       "997 -73.957517            1.0  \n",
       "998 -74.096602            1.0  \n",
       "999 -73.795871            0.0  \n",
       "\n",
       "[973 rows x 11 columns]"
      ]
     },
     "execution_count": 174,
     "metadata": {},
     "output_type": "execute_result"
    }
   ],
   "source": [
    "health_dict = {'Fair':0,'Good':1,'Poor':-1}\n",
    "# new column named \"health_status\"\n",
    "df['health_status'] = data['health'].map(health_dict)\n",
    "df"
   ]
  },
  {
   "cell_type": "markdown",
   "metadata": {
    "id": "fYutQ3q_lufs"
   },
   "source": [
    "## 5. Use either a histogram or a box plot to describe the diameter of the trees\n",
    "Identify if there are outliers, just make a comment about them, you do not need to remove them."
   ]
  },
  {
   "cell_type": "code",
   "execution_count": 175,
   "metadata": {
    "id": "t35b_HYglufs"
   },
   "outputs": [
    {
     "data": {
      "text/plain": [
       "<AxesSubplot:>"
      ]
     },
     "execution_count": 175,
     "metadata": {},
     "output_type": "execute_result"
    },
    {
     "data": {
      "image/png": "[encoded data removed]",
      "text/plain": [
       "<Figure size 640x480 with 1 Axes>"
      ]
     },
     "metadata": {},
     "output_type": "display_data"
    }
   ],
   "source": [
    "#box plot\n",
    "df.boxplot(column=[\"tree_dbh\"])"
   ]
  },
  {
   "cell_type": "code",
   "execution_count": 176,
   "metadata": {},
   "outputs": [
    {
     "data": {
      "text/plain": [
       "<AxesSubplot:>"
      ]
     },
     "execution_count": 176,
     "metadata": {},
     "output_type": "execute_result"
    },
    {
     "data": {
      "image/png": "[encoded data removed]",
      "text/plain": [
       "<Figure size 640x480 with 1 Axes>"
      ]
     },
     "metadata": {},
     "output_type": "display_data"
    }
   ],
   "source": [
    "#histogram\n",
    "df.tree_dbh.hist()"
   ]
  },
  {
   "cell_type": "markdown",
   "metadata": {
    "id": "jUHg_Aytlufs"
   },
   "source": [
    "## 6. Calculate the mean tree health status per borough \n",
    "Your output should be a table with the 5 boroughs and the average health status.\n"
   ]
  },
  {
   "cell_type": "code",
   "execution_count": 177,
   "metadata": {
    "id": "lHLQX3E5luft"
   },
   "outputs": [
    {
     "data": {
      "text/html": [
       "<div>\n",
       "<style scoped>\n",
       "    .dataframe tbody tr th:only-of-type {\n",
       "        vertical-align: middle;\n",
       "    }\n",
       "\n",
       "    .dataframe tbody tr th {\n",
       "        vertical-align: top;\n",
       "    }\n",
       "\n",
       "    .dataframe thead th {\n",
       "        text-align: right;\n",
       "    }\n",
       "</style>\n",
       "<table border=\"1\" class=\"dataframe\">\n",
       "  <thead>\n",
       "    <tr style=\"text-align: right;\">\n",
       "      <th></th>\n",
       "      <th>boroname</th>\n",
       "      <th>health_status</th>\n",
       "    </tr>\n",
       "  </thead>\n",
       "  <tbody>\n",
       "    <tr>\n",
       "      <th>0</th>\n",
       "      <td>Bronx</td>\n",
       "      <td>0.685393</td>\n",
       "    </tr>\n",
       "    <tr>\n",
       "      <th>1</th>\n",
       "      <td>Brooklyn</td>\n",
       "      <td>0.764516</td>\n",
       "    </tr>\n",
       "    <tr>\n",
       "      <th>2</th>\n",
       "      <td>Manhattan</td>\n",
       "      <td>0.787879</td>\n",
       "    </tr>\n",
       "    <tr>\n",
       "      <th>3</th>\n",
       "      <td>Queens</td>\n",
       "      <td>0.564189</td>\n",
       "    </tr>\n",
       "    <tr>\n",
       "      <th>4</th>\n",
       "      <td>Staten Island</td>\n",
       "      <td>0.762500</td>\n",
       "    </tr>\n",
       "  </tbody>\n",
       "</table>\n",
       "</div>"
      ],
      "text/plain": [
       "        boroname  health_status\n",
       "0          Bronx       0.685393\n",
       "1       Brooklyn       0.764516\n",
       "2      Manhattan       0.787879\n",
       "3         Queens       0.564189\n",
       "4  Staten Island       0.762500"
      ]
     },
     "execution_count": 177,
     "metadata": {},
     "output_type": "execute_result"
    }
   ],
   "source": [
    "mean_health = df.groupby('boroname')['health_status'].mean().reset_index()\n",
    "mean_health = pd.DataFrame(mean_health)\n",
    "mean_health"
   ]
  },
  {
   "cell_type": "markdown",
   "metadata": {
    "id": "oqEw_ksvluft"
   },
   "source": [
    "## 7. Identify the top 5 species and top 5 problems\n",
    "Your output should be two tables of 5 rows, not including the header."
   ]
  },
  {
   "cell_type": "code",
   "execution_count": 178,
   "metadata": {
    "id": "TTwK7jraluft"
   },
   "outputs": [
    {
     "data": {
      "text/html": [
       "<div>\n",
       "<style scoped>\n",
       "    .dataframe tbody tr th:only-of-type {\n",
       "        vertical-align: middle;\n",
       "    }\n",
       "\n",
       "    .dataframe tbody tr th {\n",
       "        vertical-align: top;\n",
       "    }\n",
       "\n",
       "    .dataframe thead th {\n",
       "        text-align: right;\n",
       "    }\n",
       "</style>\n",
       "<table border=\"1\" class=\"dataframe\">\n",
       "  <thead>\n",
       "    <tr style=\"text-align: right;\">\n",
       "      <th></th>\n",
       "      <th>Species</th>\n",
       "      <th>Count</th>\n",
       "    </tr>\n",
       "  </thead>\n",
       "  <tbody>\n",
       "    <tr>\n",
       "      <th>0</th>\n",
       "      <td>Gleditsia triacanthos var. inermis</td>\n",
       "      <td>201</td>\n",
       "    </tr>\n",
       "    <tr>\n",
       "      <th>1</th>\n",
       "      <td>Acer platanoides</td>\n",
       "      <td>182</td>\n",
       "    </tr>\n",
       "    <tr>\n",
       "      <th>2</th>\n",
       "      <td>Platanus x acerifolia</td>\n",
       "      <td>99</td>\n",
       "    </tr>\n",
       "    <tr>\n",
       "      <th>3</th>\n",
       "      <td>Styphnolobium japonicum</td>\n",
       "      <td>83</td>\n",
       "    </tr>\n",
       "    <tr>\n",
       "      <th>4</th>\n",
       "      <td>Ginkgo biloba</td>\n",
       "      <td>77</td>\n",
       "    </tr>\n",
       "  </tbody>\n",
       "</table>\n",
       "</div>"
      ],
      "text/plain": [
       "                              Species  Count\n",
       "0  Gleditsia triacanthos var. inermis    201\n",
       "1                    Acer platanoides    182\n",
       "2               Platanus x acerifolia     99\n",
       "3             Styphnolobium japonicum     83\n",
       "4                       Ginkgo biloba     77"
      ]
     },
     "execution_count": 178,
     "metadata": {},
     "output_type": "execute_result"
    }
   ],
   "source": [
    "#top5 species\n",
    "top_spc = df['spc_latin'].value_counts().head(5).reset_index()\n",
    "top_spc.rename(columns={'index': 'Species', 'spc_latin': 'Count'})"
   ]
  },
  {
   "cell_type": "code",
   "execution_count": 180,
   "metadata": {
    "id": "yOzduzrWqVHz"
   },
   "outputs": [
    {
     "data": {
      "text/html": [
       "<div>\n",
       "<style scoped>\n",
       "    .dataframe tbody tr th:only-of-type {\n",
       "        vertical-align: middle;\n",
       "    }\n",
       "\n",
       "    .dataframe tbody tr th {\n",
       "        vertical-align: top;\n",
       "    }\n",
       "\n",
       "    .dataframe thead th {\n",
       "        text-align: right;\n",
       "    }\n",
       "</style>\n",
       "<table border=\"1\" class=\"dataframe\">\n",
       "  <thead>\n",
       "    <tr style=\"text-align: right;\">\n",
       "      <th></th>\n",
       "      <th>Problems</th>\n",
       "      <th>Count</th>\n",
       "    </tr>\n",
       "  </thead>\n",
       "  <tbody>\n",
       "    <tr>\n",
       "      <th>0</th>\n",
       "      <td>None</td>\n",
       "      <td>549</td>\n",
       "    </tr>\n",
       "    <tr>\n",
       "      <th>1</th>\n",
       "      <td>Stones</td>\n",
       "      <td>144</td>\n",
       "    </tr>\n",
       "    <tr>\n",
       "      <th>2</th>\n",
       "      <td>Stones,BranchLights</td>\n",
       "      <td>42</td>\n",
       "    </tr>\n",
       "    <tr>\n",
       "      <th>3</th>\n",
       "      <td>BranchLights</td>\n",
       "      <td>36</td>\n",
       "    </tr>\n",
       "    <tr>\n",
       "      <th>4</th>\n",
       "      <td>RootOther</td>\n",
       "      <td>32</td>\n",
       "    </tr>\n",
       "  </tbody>\n",
       "</table>\n",
       "</div>"
      ],
      "text/plain": [
       "              Problems  Count\n",
       "0                 None    549\n",
       "1               Stones    144\n",
       "2  Stones,BranchLights     42\n",
       "3         BranchLights     36\n",
       "4            RootOther     32"
      ]
     },
     "execution_count": 180,
     "metadata": {},
     "output_type": "execute_result"
    }
   ],
   "source": [
    "#top5 problems\n",
    "df_probms = df.dropna(subset=['problems'])\n",
    "top_probms = df_probms['problems'].value_counts().head(5).reset_index()\n",
    "top_probms.rename(columns={'index': 'Problems', 'problems': 'Count'})"
   ]
  },
  {
   "cell_type": "markdown",
   "metadata": {
    "id": "xYkiUkLdluft"
   },
   "source": [
    "## 8. Calculate the correlation between the tree diameter and its health status, and plot a scatter chart.\n",
    "\n",
    "Along the course, you will need to explore the technical documentation. Please check [Scatter Plot Docs](https://matplotlib.org/stable/api/_as_gen/matplotlib.pyplot.scatter.html) and customize at least 2 visualization parameters of your scatter plot."
   ]
  },
  {
   "cell_type": "code",
   "execution_count": 194,
   "metadata": {
    "id": "S6bvfHTOluft"
   },
   "outputs": [],
   "source": [
    "import matplotlib.pyplot as plt\n",
    "%matplotlib inline"
   ]
  },
  {
   "cell_type": "code",
   "execution_count": 236,
   "metadata": {},
   "outputs": [
    {
     "data": {
      "text/plain": [
       "<matplotlib.collections.PathCollection at 0x7f87c27615b0>"
      ]
     },
     "execution_count": 236,
     "metadata": {},
     "output_type": "execute_result"
    },
    {
     "data": {
      "image/png": "[encoded data removed]",
      "text/plain": [
       "<Figure size 640x480 with 1 Axes>"
      ]
     },
     "metadata": {},
     "output_type": "display_data"
    }
   ],
   "source": [
    "# NO.1 visualization\n",
    "plt.scatter(df['health_status'],df['tree_dbh'], s=50, c='Silver', marker =1)"
   ]
  },
  {
   "cell_type": "code",
   "execution_count": 237,
   "metadata": {},
   "outputs": [
    {
     "data": {
      "text/plain": [
       "<matplotlib.collections.PathCollection at 0x7f8812667490>"
      ]
     },
     "execution_count": 237,
     "metadata": {},
     "output_type": "execute_result"
    },
    {
     "data": {
      "image/png": "[encoded data removed]",
      "text/plain": [
       "<Figure size 640x480 with 1 Axes>"
      ]
     },
     "metadata": {},
     "output_type": "display_data"
    }
   ],
   "source": [
    "# NO.2 visualization\n",
    "plt.scatter(df['health_status'],df['tree_dbh'], s=10, c='Yellow', marker =\"v\",linewidths =1,edgecolors= 'Orange')"
   ]
  },
  {
   "cell_type": "code",
   "execution_count": 193,
   "metadata": {},
   "outputs": [
    {
     "data": {
      "image/png": "[encoded data removed]",
      "text/plain": [
       "<Figure size 1200x1200 with 4 Axes>"
      ]
     },
     "metadata": {},
     "output_type": "display_data"
    }
   ],
   "source": [
    "# NO.1 visualization\n",
    "scatter_matrix(df[['tree_dbh','health_status']],\n",
    "               alpha=1, linewidths = 10 ,figsize=(12, 12), diagonal='hist',\n",
    "               hist_kwds={'color':'Silver', 'edgecolor':'k', 'alpha':1},\n",
    "               s=20, color='Silver')\n",
    "plt.show()\n",
    "\n"
   ]
  },
  {
   "cell_type": "code",
   "execution_count": null,
   "metadata": {
    "id": "oK7pLugwq284"
   },
   "outputs": [],
   "source": []
  },
  {
   "cell_type": "markdown",
   "metadata": {
    "id": "phth_fF-luft"
   },
   "source": [
    "## Extra credit: Plot a geographic visualization **without** the use of a custom spatial library (like geopandas)\n",
    "  * Evaluate the variables of your dataset and consider which chart can show the localization of the tree in a 2D visualization."
   ]
  },
  {
   "cell_type": "code",
   "execution_count": null,
   "metadata": {
    "id": "LwwOZtXkoPEd"
   },
   "outputs": [],
   "source": []
  }
 ],
 "metadata": {
  "colab": {
   "provenance": [],
   "toc_visible": true
  },
  "kernelspec": {
   "display_name": "Python 3 (ipykernel)",
   "language": "python",
   "name": "python3"
  },
  "language_info": {
   "codemirror_mode": {
    "name": "ipython",
    "version": 3
   },
   "file_extension": ".py",
   "mimetype": "text/x-python",
   "name": "python",
   "nbconvert_exporter": "python",
   "pygments_lexer": "ipython3",
   "version": "3.9.13"
  }
 },
 "nbformat": 4,
 "nbformat_minor": 1
}
