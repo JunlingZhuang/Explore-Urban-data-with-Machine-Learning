{
 "cells": [
  {
   "cell_type": "markdown",
   "metadata": {
    "id": "5UsCfnaCgEdn"
   },
   "source": [
    "PLA6113 Exploring Urban Data with Machine Learning\n",
    "<br>\n",
    "# Lab 02: Exploratory Data Analysis\n"
   ]
  },
  {
   "cell_type": "code",
   "execution_count": 1,
   "metadata": {
    "id": "M6grN7_SgEdp"
   },
   "outputs": [],
   "source": [
    "import numpy as np\n",
    "import pandas as pd\n",
    "import matplotlib.pyplot as plt\n",
    "%matplotlib inline"
   ]
  },
  {
   "cell_type": "markdown",
   "metadata": {
    "id": "upUHjvThgEdw"
   },
   "source": [
    "### 1) Load datasets\n",
    "\n",
    "####January Yellow Taxi Trip Data\n",
    "https://d37ci6vzurychx.cloudfront.net/trip-data/yellow_tripdata_2022-01.parquet"
   ]
  },
  {
   "cell_type": "code",
   "execution_count": 3,
   "metadata": {},
   "outputs": [
    {
     "ename": "NameError",
     "evalue": "name 'sys' is not defined",
     "output_type": "error",
     "traceback": [
      "\u001b[0;31m---------------------------------------------------------------------------\u001b[0m",
      "\u001b[0;31mNameError\u001b[0m                                 Traceback (most recent call last)",
      "\u001b[0;32m/var/folders/c1/53w1t4lx07x61mckxl8cl4nh0000gn/T/ipykernel_13822/132352802.py\u001b[0m in \u001b[0;36m<module>\u001b[0;34m\u001b[0m\n\u001b[0;32m----> 1\u001b[0;31m \u001b[0msys\u001b[0m \u001b[0;34m-\u001b[0m\u001b[0mversion\u001b[0m\u001b[0;34m\u001b[0m\u001b[0;34m\u001b[0m\u001b[0m\n\u001b[0m",
      "\u001b[0;31mNameError\u001b[0m: name 'sys' is not defined"
     ]
    }
   ],
   "source": [
    "sys -version"
   ]
  },
  {
   "cell_type": "code",
   "execution_count": 2,
   "metadata": {
    "id": "LpoWumHYRzj3"
   },
   "outputs": [],
   "source": [
    "data = pd.read_parquet('https://d37ci6vzurychx.cloudfront.net/trip-data/yellow_tripdata_2022-01.parquet')"
   ]
  },
  {
   "cell_type": "code",
   "execution_count": 3,
   "metadata": {
    "colab": {
     "base_uri": "https://localhost:8080/",
     "height": 270
    },
    "id": "kOkFeXQsjEPt",
    "outputId": "4ff67ba7-3227-48ec-de49-608f5b74a157"
   },
   "outputs": [
    {
     "data": {
      "text/html": [
       "<div>\n",
       "<style scoped>\n",
       "    .dataframe tbody tr th:only-of-type {\n",
       "        vertical-align: middle;\n",
       "    }\n",
       "\n",
       "    .dataframe tbody tr th {\n",
       "        vertical-align: top;\n",
       "    }\n",
       "\n",
       "    .dataframe thead th {\n",
       "        text-align: right;\n",
       "    }\n",
       "</style>\n",
       "<table border=\"1\" class=\"dataframe\">\n",
       "  <thead>\n",
       "    <tr style=\"text-align: right;\">\n",
       "      <th></th>\n",
       "      <th>VendorID</th>\n",
       "      <th>tpep_pickup_datetime</th>\n",
       "      <th>tpep_dropoff_datetime</th>\n",
       "      <th>passenger_count</th>\n",
       "      <th>trip_distance</th>\n",
       "      <th>RatecodeID</th>\n",
       "      <th>store_and_fwd_flag</th>\n",
       "      <th>PULocationID</th>\n",
       "      <th>DOLocationID</th>\n",
       "      <th>payment_type</th>\n",
       "      <th>fare_amount</th>\n",
       "      <th>extra</th>\n",
       "      <th>mta_tax</th>\n",
       "      <th>tip_amount</th>\n",
       "      <th>tolls_amount</th>\n",
       "      <th>improvement_surcharge</th>\n",
       "      <th>total_amount</th>\n",
       "      <th>congestion_surcharge</th>\n",
       "      <th>airport_fee</th>\n",
       "    </tr>\n",
       "  </thead>\n",
       "  <tbody>\n",
       "    <tr>\n",
       "      <th>0</th>\n",
       "      <td>1</td>\n",
       "      <td>2022-01-01 00:35:40</td>\n",
       "      <td>2022-01-01 00:53:29</td>\n",
       "      <td>2.0</td>\n",
       "      <td>3.80</td>\n",
       "      <td>1.0</td>\n",
       "      <td>N</td>\n",
       "      <td>142</td>\n",
       "      <td>236</td>\n",
       "      <td>1</td>\n",
       "      <td>14.5</td>\n",
       "      <td>3.0</td>\n",
       "      <td>0.5</td>\n",
       "      <td>3.65</td>\n",
       "      <td>0.0</td>\n",
       "      <td>0.3</td>\n",
       "      <td>21.95</td>\n",
       "      <td>2.5</td>\n",
       "      <td>0.0</td>\n",
       "    </tr>\n",
       "    <tr>\n",
       "      <th>1</th>\n",
       "      <td>1</td>\n",
       "      <td>2022-01-01 00:33:43</td>\n",
       "      <td>2022-01-01 00:42:07</td>\n",
       "      <td>1.0</td>\n",
       "      <td>2.10</td>\n",
       "      <td>1.0</td>\n",
       "      <td>N</td>\n",
       "      <td>236</td>\n",
       "      <td>42</td>\n",
       "      <td>1</td>\n",
       "      <td>8.0</td>\n",
       "      <td>0.5</td>\n",
       "      <td>0.5</td>\n",
       "      <td>4.00</td>\n",
       "      <td>0.0</td>\n",
       "      <td>0.3</td>\n",
       "      <td>13.30</td>\n",
       "      <td>0.0</td>\n",
       "      <td>0.0</td>\n",
       "    </tr>\n",
       "    <tr>\n",
       "      <th>2</th>\n",
       "      <td>2</td>\n",
       "      <td>2022-01-01 00:53:21</td>\n",
       "      <td>2022-01-01 01:02:19</td>\n",
       "      <td>1.0</td>\n",
       "      <td>0.97</td>\n",
       "      <td>1.0</td>\n",
       "      <td>N</td>\n",
       "      <td>166</td>\n",
       "      <td>166</td>\n",
       "      <td>1</td>\n",
       "      <td>7.5</td>\n",
       "      <td>0.5</td>\n",
       "      <td>0.5</td>\n",
       "      <td>1.76</td>\n",
       "      <td>0.0</td>\n",
       "      <td>0.3</td>\n",
       "      <td>10.56</td>\n",
       "      <td>0.0</td>\n",
       "      <td>0.0</td>\n",
       "    </tr>\n",
       "    <tr>\n",
       "      <th>3</th>\n",
       "      <td>2</td>\n",
       "      <td>2022-01-01 00:25:21</td>\n",
       "      <td>2022-01-01 00:35:23</td>\n",
       "      <td>1.0</td>\n",
       "      <td>1.09</td>\n",
       "      <td>1.0</td>\n",
       "      <td>N</td>\n",
       "      <td>114</td>\n",
       "      <td>68</td>\n",
       "      <td>2</td>\n",
       "      <td>8.0</td>\n",
       "      <td>0.5</td>\n",
       "      <td>0.5</td>\n",
       "      <td>0.00</td>\n",
       "      <td>0.0</td>\n",
       "      <td>0.3</td>\n",
       "      <td>11.80</td>\n",
       "      <td>2.5</td>\n",
       "      <td>0.0</td>\n",
       "    </tr>\n",
       "    <tr>\n",
       "      <th>4</th>\n",
       "      <td>2</td>\n",
       "      <td>2022-01-01 00:36:48</td>\n",
       "      <td>2022-01-01 01:14:20</td>\n",
       "      <td>1.0</td>\n",
       "      <td>4.30</td>\n",
       "      <td>1.0</td>\n",
       "      <td>N</td>\n",
       "      <td>68</td>\n",
       "      <td>163</td>\n",
       "      <td>1</td>\n",
       "      <td>23.5</td>\n",
       "      <td>0.5</td>\n",
       "      <td>0.5</td>\n",
       "      <td>3.00</td>\n",
       "      <td>0.0</td>\n",
       "      <td>0.3</td>\n",
       "      <td>30.30</td>\n",
       "      <td>2.5</td>\n",
       "      <td>0.0</td>\n",
       "    </tr>\n",
       "  </tbody>\n",
       "</table>\n",
       "</div>"
      ],
      "text/plain": [
       "   VendorID tpep_pickup_datetime tpep_dropoff_datetime  passenger_count  \\\n",
       "0         1  2022-01-01 00:35:40   2022-01-01 00:53:29              2.0   \n",
       "1         1  2022-01-01 00:33:43   2022-01-01 00:42:07              1.0   \n",
       "2         2  2022-01-01 00:53:21   2022-01-01 01:02:19              1.0   \n",
       "3         2  2022-01-01 00:25:21   2022-01-01 00:35:23              1.0   \n",
       "4         2  2022-01-01 00:36:48   2022-01-01 01:14:20              1.0   \n",
       "\n",
       "   trip_distance  RatecodeID store_and_fwd_flag  PULocationID  DOLocationID  \\\n",
       "0           3.80         1.0                  N           142           236   \n",
       "1           2.10         1.0                  N           236            42   \n",
       "2           0.97         1.0                  N           166           166   \n",
       "3           1.09         1.0                  N           114            68   \n",
       "4           4.30         1.0                  N            68           163   \n",
       "\n",
       "   payment_type  fare_amount  extra  mta_tax  tip_amount  tolls_amount  \\\n",
       "0             1         14.5    3.0      0.5        3.65           0.0   \n",
       "1             1          8.0    0.5      0.5        4.00           0.0   \n",
       "2             1          7.5    0.5      0.5        1.76           0.0   \n",
       "3             2          8.0    0.5      0.5        0.00           0.0   \n",
       "4             1         23.5    0.5      0.5        3.00           0.0   \n",
       "\n",
       "   improvement_surcharge  total_amount  congestion_surcharge  airport_fee  \n",
       "0                    0.3         21.95                   2.5          0.0  \n",
       "1                    0.3         13.30                   0.0          0.0  \n",
       "2                    0.3         10.56                   0.0          0.0  \n",
       "3                    0.3         11.80                   2.5          0.0  \n",
       "4                    0.3         30.30                   2.5          0.0  "
      ]
     },
     "execution_count": 3,
     "metadata": {},
     "output_type": "execute_result"
    }
   ],
   "source": [
    "data.head()"
   ]
  },
  {
   "cell_type": "markdown",
   "metadata": {
    "id": "51O1ki_RgEdw"
   },
   "source": [
    "### 2) Check missing values\n",
    "* This is a really important process to avaoid any wrong results in statistics\n",
    "* More information about missing data, see 'Python Data Science Handbook, O'Reilly' (p.119)"
   ]
  },
  {
   "cell_type": "code",
   "execution_count": 4,
   "metadata": {
    "colab": {
     "base_uri": "https://localhost:8080/"
    },
    "id": "IgrtM9WIgEdw",
    "outputId": "b98014f9-348f-47b0-d8d3-008b37e4b04b"
   },
   "outputs": [
    {
     "data": {
      "text/plain": [
       "VendorID                     0\n",
       "tpep_pickup_datetime         0\n",
       "tpep_dropoff_datetime        0\n",
       "passenger_count          71503\n",
       "trip_distance                0\n",
       "RatecodeID               71503\n",
       "store_and_fwd_flag       71503\n",
       "PULocationID                 0\n",
       "DOLocationID                 0\n",
       "payment_type                 0\n",
       "fare_amount                  0\n",
       "extra                        0\n",
       "mta_tax                      0\n",
       "tip_amount                   0\n",
       "tolls_amount                 0\n",
       "improvement_surcharge        0\n",
       "total_amount                 0\n",
       "congestion_surcharge     71503\n",
       "airport_fee              71503\n",
       "dtype: int64"
      ]
     },
     "execution_count": 4,
     "metadata": {},
     "output_type": "execute_result"
    }
   ],
   "source": [
    "# Check nulls\n",
    "data.isnull().sum()"
   ]
  },
  {
   "cell_type": "code",
   "execution_count": 5,
   "metadata": {
    "colab": {
     "base_uri": "https://localhost:8080/"
    },
    "id": "OSKl9hekgEdw",
    "outputId": "a21604d3-c690-44b4-c307-a1d4b5bf7f0f"
   },
   "outputs": [
    {
     "data": {
      "text/plain": [
       "1.3894533085217193"
      ]
     },
     "execution_count": 5,
     "metadata": {},
     "output_type": "execute_result"
    }
   ],
   "source": [
    "# Get mean using built-in function\n",
    "data['passenger_count'].mean()"
   ]
  },
  {
   "cell_type": "code",
   "execution_count": 6,
   "metadata": {
    "colab": {
     "base_uri": "https://localhost:8080/"
    },
    "id": "gwBP_LCcgEdx",
    "outputId": "3c3b43dc-f51b-4846-c21a-5368b9a8cc20"
   },
   "outputs": [
    {
     "data": {
      "text/plain": [
       "1.349131530063139"
      ]
     },
     "execution_count": 6,
     "metadata": {},
     "output_type": "execute_result"
    }
   ],
   "source": [
    "# Get mean using sum and len\n",
    "data['passenger_count'].sum()/len(data['passenger_count'])"
   ]
  },
  {
   "cell_type": "code",
   "execution_count": 7,
   "metadata": {
    "id": "BFHSVctNgEdx"
   },
   "outputs": [],
   "source": [
    "# Replace nulls: replace(np.nan, 0)\n",
    "data = data.replace(np.nan,0)"
   ]
  },
  {
   "cell_type": "code",
   "execution_count": 14,
   "metadata": {
    "colab": {
     "base_uri": "https://localhost:8080/"
    },
    "id": "9QXxN5xFgEdx",
    "outputId": "08ab6d95-3d1d-4873-fa68-bb4fd518fb92"
   },
   "outputs": [
    {
     "data": {
      "text/plain": [
       "VendorID                 0\n",
       "tpep_pickup_datetime     0\n",
       "tpep_dropoff_datetime    0\n",
       "passenger_count          0\n",
       "trip_distance            0\n",
       "RatecodeID               0\n",
       "store_and_fwd_flag       0\n",
       "PULocationID             0\n",
       "DOLocationID             0\n",
       "payment_type             0\n",
       "fare_amount              0\n",
       "extra                    0\n",
       "mta_tax                  0\n",
       "tip_amount               0\n",
       "tolls_amount             0\n",
       "improvement_surcharge    0\n",
       "total_amount             0\n",
       "congestion_surcharge     0\n",
       "airport_fee              0\n",
       "dtype: int64"
      ]
     },
     "execution_count": 14,
     "metadata": {},
     "output_type": "execute_result"
    }
   ],
   "source": [
    "data.isnull().sum()"
   ]
  },
  {
   "cell_type": "code",
   "execution_count": 11,
   "metadata": {
    "colab": {
     "base_uri": "https://localhost:8080/"
    },
    "id": "VasHpL5UgEdx",
    "outputId": "bbe2e422-b53c-4bd0-e50a-8e43668aea38"
   },
   "outputs": [
    {
     "name": "stdout",
     "output_type": "stream",
     "text": [
      "1.349131530063139\n",
      "1.349131530063139\n"
     ]
    }
   ],
   "source": [
    "# Repeat the previous process\n",
    "print(data['passenger_count'].mean())\n",
    "print(data['passenger_count'].sum()/len(data['passenger_count']))"
   ]
  },
  {
   "cell_type": "markdown",
   "metadata": {
    "id": "uqGsQ8-EgEdx"
   },
   "source": [
    "### 3) Create a new column based on the existing columns"
   ]
  },
  {
   "cell_type": "code",
   "execution_count": null,
   "metadata": {
    "id": "TG0MhCeugEdx"
   },
   "outputs": [],
   "source": [
    "# Check if trip included a airport in the route"
   ]
  },
  {
   "cell_type": "code",
   "execution_count": 14,
   "metadata": {
    "id": "PiIo3DiMgEdx"
   },
   "outputs": [],
   "source": [
    "data['airport'] = data['airport_fee'] > 0"
   ]
  },
  {
   "cell_type": "code",
   "execution_count": 15,
   "metadata": {
    "colab": {
     "base_uri": "https://localhost:8080/",
     "height": 270
    },
    "id": "1-MGxQrKTCpx",
    "outputId": "24fa2186-079e-4e54-9fac-12332c1fcad5"
   },
   "outputs": [
    {
     "data": {
      "text/html": [
       "<div>\n",
       "<style scoped>\n",
       "    .dataframe tbody tr th:only-of-type {\n",
       "        vertical-align: middle;\n",
       "    }\n",
       "\n",
       "    .dataframe tbody tr th {\n",
       "        vertical-align: top;\n",
       "    }\n",
       "\n",
       "    .dataframe thead th {\n",
       "        text-align: right;\n",
       "    }\n",
       "</style>\n",
       "<table border=\"1\" class=\"dataframe\">\n",
       "  <thead>\n",
       "    <tr style=\"text-align: right;\">\n",
       "      <th></th>\n",
       "      <th>VendorID</th>\n",
       "      <th>tpep_pickup_datetime</th>\n",
       "      <th>tpep_dropoff_datetime</th>\n",
       "      <th>passenger_count</th>\n",
       "      <th>trip_distance</th>\n",
       "      <th>RatecodeID</th>\n",
       "      <th>store_and_fwd_flag</th>\n",
       "      <th>PULocationID</th>\n",
       "      <th>DOLocationID</th>\n",
       "      <th>payment_type</th>\n",
       "      <th>fare_amount</th>\n",
       "      <th>extra</th>\n",
       "      <th>mta_tax</th>\n",
       "      <th>tip_amount</th>\n",
       "      <th>tolls_amount</th>\n",
       "      <th>improvement_surcharge</th>\n",
       "      <th>total_amount</th>\n",
       "      <th>congestion_surcharge</th>\n",
       "      <th>airport_fee</th>\n",
       "      <th>airport</th>\n",
       "    </tr>\n",
       "  </thead>\n",
       "  <tbody>\n",
       "    <tr>\n",
       "      <th>0</th>\n",
       "      <td>1</td>\n",
       "      <td>2022-01-01 00:35:40</td>\n",
       "      <td>2022-01-01 00:53:29</td>\n",
       "      <td>2.0</td>\n",
       "      <td>3.80</td>\n",
       "      <td>1.0</td>\n",
       "      <td>N</td>\n",
       "      <td>142</td>\n",
       "      <td>236</td>\n",
       "      <td>1</td>\n",
       "      <td>14.5</td>\n",
       "      <td>3.0</td>\n",
       "      <td>0.5</td>\n",
       "      <td>3.65</td>\n",
       "      <td>0.0</td>\n",
       "      <td>0.3</td>\n",
       "      <td>21.95</td>\n",
       "      <td>2.5</td>\n",
       "      <td>0.0</td>\n",
       "      <td>False</td>\n",
       "    </tr>\n",
       "    <tr>\n",
       "      <th>1</th>\n",
       "      <td>1</td>\n",
       "      <td>2022-01-01 00:33:43</td>\n",
       "      <td>2022-01-01 00:42:07</td>\n",
       "      <td>1.0</td>\n",
       "      <td>2.10</td>\n",
       "      <td>1.0</td>\n",
       "      <td>N</td>\n",
       "      <td>236</td>\n",
       "      <td>42</td>\n",
       "      <td>1</td>\n",
       "      <td>8.0</td>\n",
       "      <td>0.5</td>\n",
       "      <td>0.5</td>\n",
       "      <td>4.00</td>\n",
       "      <td>0.0</td>\n",
       "      <td>0.3</td>\n",
       "      <td>13.30</td>\n",
       "      <td>0.0</td>\n",
       "      <td>0.0</td>\n",
       "      <td>False</td>\n",
       "    </tr>\n",
       "    <tr>\n",
       "      <th>2</th>\n",
       "      <td>2</td>\n",
       "      <td>2022-01-01 00:53:21</td>\n",
       "      <td>2022-01-01 01:02:19</td>\n",
       "      <td>1.0</td>\n",
       "      <td>0.97</td>\n",
       "      <td>1.0</td>\n",
       "      <td>N</td>\n",
       "      <td>166</td>\n",
       "      <td>166</td>\n",
       "      <td>1</td>\n",
       "      <td>7.5</td>\n",
       "      <td>0.5</td>\n",
       "      <td>0.5</td>\n",
       "      <td>1.76</td>\n",
       "      <td>0.0</td>\n",
       "      <td>0.3</td>\n",
       "      <td>10.56</td>\n",
       "      <td>0.0</td>\n",
       "      <td>0.0</td>\n",
       "      <td>False</td>\n",
       "    </tr>\n",
       "    <tr>\n",
       "      <th>3</th>\n",
       "      <td>2</td>\n",
       "      <td>2022-01-01 00:25:21</td>\n",
       "      <td>2022-01-01 00:35:23</td>\n",
       "      <td>1.0</td>\n",
       "      <td>1.09</td>\n",
       "      <td>1.0</td>\n",
       "      <td>N</td>\n",
       "      <td>114</td>\n",
       "      <td>68</td>\n",
       "      <td>2</td>\n",
       "      <td>8.0</td>\n",
       "      <td>0.5</td>\n",
       "      <td>0.5</td>\n",
       "      <td>0.00</td>\n",
       "      <td>0.0</td>\n",
       "      <td>0.3</td>\n",
       "      <td>11.80</td>\n",
       "      <td>2.5</td>\n",
       "      <td>0.0</td>\n",
       "      <td>False</td>\n",
       "    </tr>\n",
       "    <tr>\n",
       "      <th>4</th>\n",
       "      <td>2</td>\n",
       "      <td>2022-01-01 00:36:48</td>\n",
       "      <td>2022-01-01 01:14:20</td>\n",
       "      <td>1.0</td>\n",
       "      <td>4.30</td>\n",
       "      <td>1.0</td>\n",
       "      <td>N</td>\n",
       "      <td>68</td>\n",
       "      <td>163</td>\n",
       "      <td>1</td>\n",
       "      <td>23.5</td>\n",
       "      <td>0.5</td>\n",
       "      <td>0.5</td>\n",
       "      <td>3.00</td>\n",
       "      <td>0.0</td>\n",
       "      <td>0.3</td>\n",
       "      <td>30.30</td>\n",
       "      <td>2.5</td>\n",
       "      <td>0.0</td>\n",
       "      <td>False</td>\n",
       "    </tr>\n",
       "  </tbody>\n",
       "</table>\n",
       "</div>"
      ],
      "text/plain": [
       "   VendorID tpep_pickup_datetime tpep_dropoff_datetime  passenger_count  \\\n",
       "0         1  2022-01-01 00:35:40   2022-01-01 00:53:29              2.0   \n",
       "1         1  2022-01-01 00:33:43   2022-01-01 00:42:07              1.0   \n",
       "2         2  2022-01-01 00:53:21   2022-01-01 01:02:19              1.0   \n",
       "3         2  2022-01-01 00:25:21   2022-01-01 00:35:23              1.0   \n",
       "4         2  2022-01-01 00:36:48   2022-01-01 01:14:20              1.0   \n",
       "\n",
       "   trip_distance  RatecodeID store_and_fwd_flag  PULocationID  DOLocationID  \\\n",
       "0           3.80         1.0                  N           142           236   \n",
       "1           2.10         1.0                  N           236            42   \n",
       "2           0.97         1.0                  N           166           166   \n",
       "3           1.09         1.0                  N           114            68   \n",
       "4           4.30         1.0                  N            68           163   \n",
       "\n",
       "   payment_type  fare_amount  extra  mta_tax  tip_amount  tolls_amount  \\\n",
       "0             1         14.5    3.0      0.5        3.65           0.0   \n",
       "1             1          8.0    0.5      0.5        4.00           0.0   \n",
       "2             1          7.5    0.5      0.5        1.76           0.0   \n",
       "3             2          8.0    0.5      0.5        0.00           0.0   \n",
       "4             1         23.5    0.5      0.5        3.00           0.0   \n",
       "\n",
       "   improvement_surcharge  total_amount  congestion_surcharge  airport_fee  \\\n",
       "0                    0.3         21.95                   2.5          0.0   \n",
       "1                    0.3         13.30                   0.0          0.0   \n",
       "2                    0.3         10.56                   0.0          0.0   \n",
       "3                    0.3         11.80                   2.5          0.0   \n",
       "4                    0.3         30.30                   2.5          0.0   \n",
       "\n",
       "   airport  \n",
       "0    False  \n",
       "1    False  \n",
       "2    False  \n",
       "3    False  \n",
       "4    False  "
      ]
     },
     "execution_count": 15,
     "metadata": {},
     "output_type": "execute_result"
    }
   ],
   "source": [
    "data.head()"
   ]
  },
  {
   "cell_type": "markdown",
   "metadata": {
    "id": "m8PSs_-UgEdx"
   },
   "source": [
    "### 4) Descriptive statistics"
   ]
  },
  {
   "cell_type": "code",
   "execution_count": 16,
   "metadata": {
    "colab": {
     "base_uri": "https://localhost:8080/",
     "height": 381
    },
    "id": "6jgeBaZIgEdx",
    "outputId": "a106a1b3-1ed3-4a89-b5cd-3c80884143c5"
   },
   "outputs": [
    {
     "data": {
      "text/html": [
       "<div>\n",
       "<style scoped>\n",
       "    .dataframe tbody tr th:only-of-type {\n",
       "        vertical-align: middle;\n",
       "    }\n",
       "\n",
       "    .dataframe tbody tr th {\n",
       "        vertical-align: top;\n",
       "    }\n",
       "\n",
       "    .dataframe thead th {\n",
       "        text-align: right;\n",
       "    }\n",
       "</style>\n",
       "<table border=\"1\" class=\"dataframe\">\n",
       "  <thead>\n",
       "    <tr style=\"text-align: right;\">\n",
       "      <th></th>\n",
       "      <th>VendorID</th>\n",
       "      <th>passenger_count</th>\n",
       "      <th>trip_distance</th>\n",
       "      <th>RatecodeID</th>\n",
       "      <th>PULocationID</th>\n",
       "      <th>DOLocationID</th>\n",
       "      <th>payment_type</th>\n",
       "      <th>fare_amount</th>\n",
       "      <th>extra</th>\n",
       "      <th>mta_tax</th>\n",
       "      <th>tip_amount</th>\n",
       "      <th>tolls_amount</th>\n",
       "      <th>improvement_surcharge</th>\n",
       "      <th>total_amount</th>\n",
       "      <th>congestion_surcharge</th>\n",
       "      <th>airport_fee</th>\n",
       "    </tr>\n",
       "  </thead>\n",
       "  <tbody>\n",
       "    <tr>\n",
       "      <th>count</th>\n",
       "      <td>2.463931e+06</td>\n",
       "      <td>2.463931e+06</td>\n",
       "      <td>2.463931e+06</td>\n",
       "      <td>2.463931e+06</td>\n",
       "      <td>2.463931e+06</td>\n",
       "      <td>2.463931e+06</td>\n",
       "      <td>2.463931e+06</td>\n",
       "      <td>2.463931e+06</td>\n",
       "      <td>2.463931e+06</td>\n",
       "      <td>2.463931e+06</td>\n",
       "      <td>2.463931e+06</td>\n",
       "      <td>2.463931e+06</td>\n",
       "      <td>2.463931e+06</td>\n",
       "      <td>2.463931e+06</td>\n",
       "      <td>2.463931e+06</td>\n",
       "      <td>2.463931e+06</td>\n",
       "    </tr>\n",
       "    <tr>\n",
       "      <th>mean</th>\n",
       "      <td>1.707819e+00</td>\n",
       "      <td>1.349132e+00</td>\n",
       "      <td>5.372751e+00</td>\n",
       "      <td>1.374429e+00</td>\n",
       "      <td>1.660768e+02</td>\n",
       "      <td>1.635807e+02</td>\n",
       "      <td>1.194449e+00</td>\n",
       "      <td>1.294648e+01</td>\n",
       "      <td>1.006710e+00</td>\n",
       "      <td>4.914539e-01</td>\n",
       "      <td>2.385696e+00</td>\n",
       "      <td>3.749773e-01</td>\n",
       "      <td>2.967234e-01</td>\n",
       "      <td>1.916937e+01</td>\n",
       "      <td>2.216090e+00</td>\n",
       "      <td>8.010523e-02</td>\n",
       "    </tr>\n",
       "    <tr>\n",
       "      <th>std</th>\n",
       "      <td>5.021375e-01</td>\n",
       "      <td>9.962865e-01</td>\n",
       "      <td>5.478714e+02</td>\n",
       "      <td>5.835917e+00</td>\n",
       "      <td>6.546806e+01</td>\n",
       "      <td>7.079016e+01</td>\n",
       "      <td>5.001778e-01</td>\n",
       "      <td>2.558149e+02</td>\n",
       "      <td>1.236226e+00</td>\n",
       "      <td>8.291560e-02</td>\n",
       "      <td>2.830698e+00</td>\n",
       "      <td>1.680538e+00</td>\n",
       "      <td>4.374741e-02</td>\n",
       "      <td>2.559641e+02</td>\n",
       "      <td>8.264991e-01</td>\n",
       "      <td>3.082981e-01</td>\n",
       "    </tr>\n",
       "    <tr>\n",
       "      <th>min</th>\n",
       "      <td>1.000000e+00</td>\n",
       "      <td>0.000000e+00</td>\n",
       "      <td>0.000000e+00</td>\n",
       "      <td>0.000000e+00</td>\n",
       "      <td>1.000000e+00</td>\n",
       "      <td>1.000000e+00</td>\n",
       "      <td>0.000000e+00</td>\n",
       "      <td>-4.800000e+02</td>\n",
       "      <td>-4.500000e+00</td>\n",
       "      <td>-5.000000e-01</td>\n",
       "      <td>-1.252200e+02</td>\n",
       "      <td>-3.140000e+01</td>\n",
       "      <td>-3.000000e-01</td>\n",
       "      <td>-4.803000e+02</td>\n",
       "      <td>-2.500000e+00</td>\n",
       "      <td>-1.250000e+00</td>\n",
       "    </tr>\n",
       "    <tr>\n",
       "      <th>25%</th>\n",
       "      <td>1.000000e+00</td>\n",
       "      <td>1.000000e+00</td>\n",
       "      <td>1.040000e+00</td>\n",
       "      <td>1.000000e+00</td>\n",
       "      <td>1.320000e+02</td>\n",
       "      <td>1.130000e+02</td>\n",
       "      <td>1.000000e+00</td>\n",
       "      <td>6.500000e+00</td>\n",
       "      <td>0.000000e+00</td>\n",
       "      <td>5.000000e-01</td>\n",
       "      <td>7.200000e-01</td>\n",
       "      <td>0.000000e+00</td>\n",
       "      <td>3.000000e-01</td>\n",
       "      <td>1.130000e+01</td>\n",
       "      <td>2.500000e+00</td>\n",
       "      <td>0.000000e+00</td>\n",
       "    </tr>\n",
       "    <tr>\n",
       "      <th>50%</th>\n",
       "      <td>2.000000e+00</td>\n",
       "      <td>1.000000e+00</td>\n",
       "      <td>1.740000e+00</td>\n",
       "      <td>1.000000e+00</td>\n",
       "      <td>1.620000e+02</td>\n",
       "      <td>1.620000e+02</td>\n",
       "      <td>1.000000e+00</td>\n",
       "      <td>9.000000e+00</td>\n",
       "      <td>5.000000e-01</td>\n",
       "      <td>5.000000e-01</td>\n",
       "      <td>2.000000e+00</td>\n",
       "      <td>0.000000e+00</td>\n",
       "      <td>3.000000e-01</td>\n",
       "      <td>1.469000e+01</td>\n",
       "      <td>2.500000e+00</td>\n",
       "      <td>0.000000e+00</td>\n",
       "    </tr>\n",
       "    <tr>\n",
       "      <th>75%</th>\n",
       "      <td>2.000000e+00</td>\n",
       "      <td>1.000000e+00</td>\n",
       "      <td>3.130000e+00</td>\n",
       "      <td>1.000000e+00</td>\n",
       "      <td>2.340000e+02</td>\n",
       "      <td>2.360000e+02</td>\n",
       "      <td>1.000000e+00</td>\n",
       "      <td>1.400000e+01</td>\n",
       "      <td>2.500000e+00</td>\n",
       "      <td>5.000000e-01</td>\n",
       "      <td>3.000000e+00</td>\n",
       "      <td>0.000000e+00</td>\n",
       "      <td>3.000000e-01</td>\n",
       "      <td>2.002000e+01</td>\n",
       "      <td>2.500000e+00</td>\n",
       "      <td>0.000000e+00</td>\n",
       "    </tr>\n",
       "    <tr>\n",
       "      <th>max</th>\n",
       "      <td>6.000000e+00</td>\n",
       "      <td>9.000000e+00</td>\n",
       "      <td>3.061593e+05</td>\n",
       "      <td>9.900000e+01</td>\n",
       "      <td>2.650000e+02</td>\n",
       "      <td>2.650000e+02</td>\n",
       "      <td>5.000000e+00</td>\n",
       "      <td>4.010923e+05</td>\n",
       "      <td>3.350000e+01</td>\n",
       "      <td>1.659000e+01</td>\n",
       "      <td>8.888800e+02</td>\n",
       "      <td>1.933000e+02</td>\n",
       "      <td>3.000000e-01</td>\n",
       "      <td>4.010956e+05</td>\n",
       "      <td>2.500000e+00</td>\n",
       "      <td>1.250000e+00</td>\n",
       "    </tr>\n",
       "  </tbody>\n",
       "</table>\n",
       "</div>"
      ],
      "text/plain": [
       "           VendorID  passenger_count  trip_distance    RatecodeID  \\\n",
       "count  2.463931e+06     2.463931e+06   2.463931e+06  2.463931e+06   \n",
       "mean   1.707819e+00     1.349132e+00   5.372751e+00  1.374429e+00   \n",
       "std    5.021375e-01     9.962865e-01   5.478714e+02  5.835917e+00   \n",
       "min    1.000000e+00     0.000000e+00   0.000000e+00  0.000000e+00   \n",
       "25%    1.000000e+00     1.000000e+00   1.040000e+00  1.000000e+00   \n",
       "50%    2.000000e+00     1.000000e+00   1.740000e+00  1.000000e+00   \n",
       "75%    2.000000e+00     1.000000e+00   3.130000e+00  1.000000e+00   \n",
       "max    6.000000e+00     9.000000e+00   3.061593e+05  9.900000e+01   \n",
       "\n",
       "       PULocationID  DOLocationID  payment_type   fare_amount         extra  \\\n",
       "count  2.463931e+06  2.463931e+06  2.463931e+06  2.463931e+06  2.463931e+06   \n",
       "mean   1.660768e+02  1.635807e+02  1.194449e+00  1.294648e+01  1.006710e+00   \n",
       "std    6.546806e+01  7.079016e+01  5.001778e-01  2.558149e+02  1.236226e+00   \n",
       "min    1.000000e+00  1.000000e+00  0.000000e+00 -4.800000e+02 -4.500000e+00   \n",
       "25%    1.320000e+02  1.130000e+02  1.000000e+00  6.500000e+00  0.000000e+00   \n",
       "50%    1.620000e+02  1.620000e+02  1.000000e+00  9.000000e+00  5.000000e-01   \n",
       "75%    2.340000e+02  2.360000e+02  1.000000e+00  1.400000e+01  2.500000e+00   \n",
       "max    2.650000e+02  2.650000e+02  5.000000e+00  4.010923e+05  3.350000e+01   \n",
       "\n",
       "            mta_tax    tip_amount  tolls_amount  improvement_surcharge  \\\n",
       "count  2.463931e+06  2.463931e+06  2.463931e+06           2.463931e+06   \n",
       "mean   4.914539e-01  2.385696e+00  3.749773e-01           2.967234e-01   \n",
       "std    8.291560e-02  2.830698e+00  1.680538e+00           4.374741e-02   \n",
       "min   -5.000000e-01 -1.252200e+02 -3.140000e+01          -3.000000e-01   \n",
       "25%    5.000000e-01  7.200000e-01  0.000000e+00           3.000000e-01   \n",
       "50%    5.000000e-01  2.000000e+00  0.000000e+00           3.000000e-01   \n",
       "75%    5.000000e-01  3.000000e+00  0.000000e+00           3.000000e-01   \n",
       "max    1.659000e+01  8.888800e+02  1.933000e+02           3.000000e-01   \n",
       "\n",
       "       total_amount  congestion_surcharge   airport_fee  \n",
       "count  2.463931e+06          2.463931e+06  2.463931e+06  \n",
       "mean   1.916937e+01          2.216090e+00  8.010523e-02  \n",
       "std    2.559641e+02          8.264991e-01  3.082981e-01  \n",
       "min   -4.803000e+02         -2.500000e+00 -1.250000e+00  \n",
       "25%    1.130000e+01          2.500000e+00  0.000000e+00  \n",
       "50%    1.469000e+01          2.500000e+00  0.000000e+00  \n",
       "75%    2.002000e+01          2.500000e+00  0.000000e+00  \n",
       "max    4.010956e+05          2.500000e+00  1.250000e+00  "
      ]
     },
     "execution_count": 16,
     "metadata": {},
     "output_type": "execute_result"
    }
   ],
   "source": [
    "# Use describe()\n",
    "data.describe()"
   ]
  },
  {
   "cell_type": "code",
   "execution_count": 17,
   "metadata": {
    "colab": {
     "base_uri": "https://localhost:8080/",
     "height": 364
    },
    "id": "-mmn3dWHgEdx",
    "outputId": "3a90e6a9-f086-46ad-b994-f0a754b8cc55"
   },
   "outputs": [
    {
     "data": {
      "text/html": [
       "<div>\n",
       "<style scoped>\n",
       "    .dataframe tbody tr th:only-of-type {\n",
       "        vertical-align: middle;\n",
       "    }\n",
       "\n",
       "    .dataframe tbody tr th {\n",
       "        vertical-align: top;\n",
       "    }\n",
       "\n",
       "    .dataframe thead th {\n",
       "        text-align: right;\n",
       "    }\n",
       "</style>\n",
       "<table border=\"1\" class=\"dataframe\">\n",
       "  <thead>\n",
       "    <tr style=\"text-align: right;\">\n",
       "      <th></th>\n",
       "      <th>VendorID</th>\n",
       "      <th>passenger_count</th>\n",
       "      <th>trip_distance</th>\n",
       "      <th>RatecodeID</th>\n",
       "      <th>PULocationID</th>\n",
       "      <th>DOLocationID</th>\n",
       "      <th>payment_type</th>\n",
       "      <th>fare_amount</th>\n",
       "      <th>extra</th>\n",
       "      <th>mta_tax</th>\n",
       "      <th>tip_amount</th>\n",
       "      <th>tolls_amount</th>\n",
       "      <th>improvement_surcharge</th>\n",
       "      <th>total_amount</th>\n",
       "      <th>congestion_surcharge</th>\n",
       "      <th>airport_fee</th>\n",
       "    </tr>\n",
       "  </thead>\n",
       "  <tbody>\n",
       "    <tr>\n",
       "      <th>count</th>\n",
       "      <td>2463931.00</td>\n",
       "      <td>2463931.00</td>\n",
       "      <td>2463931.00</td>\n",
       "      <td>2463931.00</td>\n",
       "      <td>2463931.00</td>\n",
       "      <td>2463931.00</td>\n",
       "      <td>2463931.00</td>\n",
       "      <td>2463931.00</td>\n",
       "      <td>2463931.00</td>\n",
       "      <td>2463931.00</td>\n",
       "      <td>2463931.00</td>\n",
       "      <td>2463931.00</td>\n",
       "      <td>2463931.00</td>\n",
       "      <td>2463931.00</td>\n",
       "      <td>2463931.00</td>\n",
       "      <td>2463931.00</td>\n",
       "    </tr>\n",
       "    <tr>\n",
       "      <th>mean</th>\n",
       "      <td>1.71</td>\n",
       "      <td>1.35</td>\n",
       "      <td>5.37</td>\n",
       "      <td>1.37</td>\n",
       "      <td>166.08</td>\n",
       "      <td>163.58</td>\n",
       "      <td>1.19</td>\n",
       "      <td>12.95</td>\n",
       "      <td>1.01</td>\n",
       "      <td>0.49</td>\n",
       "      <td>2.39</td>\n",
       "      <td>0.37</td>\n",
       "      <td>0.30</td>\n",
       "      <td>19.17</td>\n",
       "      <td>2.22</td>\n",
       "      <td>0.08</td>\n",
       "    </tr>\n",
       "    <tr>\n",
       "      <th>std</th>\n",
       "      <td>0.50</td>\n",
       "      <td>1.00</td>\n",
       "      <td>547.87</td>\n",
       "      <td>5.84</td>\n",
       "      <td>65.47</td>\n",
       "      <td>70.79</td>\n",
       "      <td>0.50</td>\n",
       "      <td>255.81</td>\n",
       "      <td>1.24</td>\n",
       "      <td>0.08</td>\n",
       "      <td>2.83</td>\n",
       "      <td>1.68</td>\n",
       "      <td>0.04</td>\n",
       "      <td>255.96</td>\n",
       "      <td>0.83</td>\n",
       "      <td>0.31</td>\n",
       "    </tr>\n",
       "    <tr>\n",
       "      <th>min</th>\n",
       "      <td>1.00</td>\n",
       "      <td>0.00</td>\n",
       "      <td>0.00</td>\n",
       "      <td>0.00</td>\n",
       "      <td>1.00</td>\n",
       "      <td>1.00</td>\n",
       "      <td>0.00</td>\n",
       "      <td>-480.00</td>\n",
       "      <td>-4.50</td>\n",
       "      <td>-0.50</td>\n",
       "      <td>-125.22</td>\n",
       "      <td>-31.40</td>\n",
       "      <td>-0.30</td>\n",
       "      <td>-480.30</td>\n",
       "      <td>-2.50</td>\n",
       "      <td>-1.25</td>\n",
       "    </tr>\n",
       "    <tr>\n",
       "      <th>25%</th>\n",
       "      <td>1.00</td>\n",
       "      <td>1.00</td>\n",
       "      <td>1.04</td>\n",
       "      <td>1.00</td>\n",
       "      <td>132.00</td>\n",
       "      <td>113.00</td>\n",
       "      <td>1.00</td>\n",
       "      <td>6.50</td>\n",
       "      <td>0.00</td>\n",
       "      <td>0.50</td>\n",
       "      <td>0.72</td>\n",
       "      <td>0.00</td>\n",
       "      <td>0.30</td>\n",
       "      <td>11.30</td>\n",
       "      <td>2.50</td>\n",
       "      <td>0.00</td>\n",
       "    </tr>\n",
       "    <tr>\n",
       "      <th>50%</th>\n",
       "      <td>2.00</td>\n",
       "      <td>1.00</td>\n",
       "      <td>1.74</td>\n",
       "      <td>1.00</td>\n",
       "      <td>162.00</td>\n",
       "      <td>162.00</td>\n",
       "      <td>1.00</td>\n",
       "      <td>9.00</td>\n",
       "      <td>0.50</td>\n",
       "      <td>0.50</td>\n",
       "      <td>2.00</td>\n",
       "      <td>0.00</td>\n",
       "      <td>0.30</td>\n",
       "      <td>14.69</td>\n",
       "      <td>2.50</td>\n",
       "      <td>0.00</td>\n",
       "    </tr>\n",
       "    <tr>\n",
       "      <th>75%</th>\n",
       "      <td>2.00</td>\n",
       "      <td>1.00</td>\n",
       "      <td>3.13</td>\n",
       "      <td>1.00</td>\n",
       "      <td>234.00</td>\n",
       "      <td>236.00</td>\n",
       "      <td>1.00</td>\n",
       "      <td>14.00</td>\n",
       "      <td>2.50</td>\n",
       "      <td>0.50</td>\n",
       "      <td>3.00</td>\n",
       "      <td>0.00</td>\n",
       "      <td>0.30</td>\n",
       "      <td>20.02</td>\n",
       "      <td>2.50</td>\n",
       "      <td>0.00</td>\n",
       "    </tr>\n",
       "    <tr>\n",
       "      <th>max</th>\n",
       "      <td>6.00</td>\n",
       "      <td>9.00</td>\n",
       "      <td>306159.28</td>\n",
       "      <td>99.00</td>\n",
       "      <td>265.00</td>\n",
       "      <td>265.00</td>\n",
       "      <td>5.00</td>\n",
       "      <td>401092.32</td>\n",
       "      <td>33.50</td>\n",
       "      <td>16.59</td>\n",
       "      <td>888.88</td>\n",
       "      <td>193.30</td>\n",
       "      <td>0.30</td>\n",
       "      <td>401095.62</td>\n",
       "      <td>2.50</td>\n",
       "      <td>1.25</td>\n",
       "    </tr>\n",
       "  </tbody>\n",
       "</table>\n",
       "</div>"
      ],
      "text/plain": [
       "         VendorID  passenger_count  trip_distance  RatecodeID  PULocationID  \\\n",
       "count  2463931.00       2463931.00     2463931.00  2463931.00    2463931.00   \n",
       "mean         1.71             1.35           5.37        1.37        166.08   \n",
       "std          0.50             1.00         547.87        5.84         65.47   \n",
       "min          1.00             0.00           0.00        0.00          1.00   \n",
       "25%          1.00             1.00           1.04        1.00        132.00   \n",
       "50%          2.00             1.00           1.74        1.00        162.00   \n",
       "75%          2.00             1.00           3.13        1.00        234.00   \n",
       "max          6.00             9.00      306159.28       99.00        265.00   \n",
       "\n",
       "       DOLocationID  payment_type  fare_amount       extra     mta_tax  \\\n",
       "count    2463931.00    2463931.00   2463931.00  2463931.00  2463931.00   \n",
       "mean         163.58          1.19        12.95        1.01        0.49   \n",
       "std           70.79          0.50       255.81        1.24        0.08   \n",
       "min            1.00          0.00      -480.00       -4.50       -0.50   \n",
       "25%          113.00          1.00         6.50        0.00        0.50   \n",
       "50%          162.00          1.00         9.00        0.50        0.50   \n",
       "75%          236.00          1.00        14.00        2.50        0.50   \n",
       "max          265.00          5.00    401092.32       33.50       16.59   \n",
       "\n",
       "       tip_amount  tolls_amount  improvement_surcharge  total_amount  \\\n",
       "count  2463931.00    2463931.00             2463931.00    2463931.00   \n",
       "mean         2.39          0.37                   0.30         19.17   \n",
       "std          2.83          1.68                   0.04        255.96   \n",
       "min       -125.22        -31.40                  -0.30       -480.30   \n",
       "25%          0.72          0.00                   0.30         11.30   \n",
       "50%          2.00          0.00                   0.30         14.69   \n",
       "75%          3.00          0.00                   0.30         20.02   \n",
       "max        888.88        193.30                   0.30     401095.62   \n",
       "\n",
       "       congestion_surcharge  airport_fee  \n",
       "count            2463931.00   2463931.00  \n",
       "mean                   2.22         0.08  \n",
       "std                    0.83         0.31  \n",
       "min                   -2.50        -1.25  \n",
       "25%                    2.50         0.00  \n",
       "50%                    2.50         0.00  \n",
       "75%                    2.50         0.00  \n",
       "max                    2.50         1.25  "
      ]
     },
     "execution_count": 17,
     "metadata": {},
     "output_type": "execute_result"
    }
   ],
   "source": [
    "# Round the numbers\n",
    "data.describe().round(2)"
   ]
  },
  {
   "cell_type": "markdown",
   "metadata": {
    "id": "qiqNSkiggEdy"
   },
   "source": [
    "### 5) Histogram"
   ]
  },
  {
   "cell_type": "code",
   "execution_count": 18,
   "metadata": {
    "colab": {
     "base_uri": "https://localhost:8080/",
     "height": 293
    },
    "id": "bBYRVK0SgEdy",
    "outputId": "230a61b4-11a1-46b7-cbfb-e0d59114c4a2"
   },
   "outputs": [
    {
     "data": {
      "text/plain": [
       "<AxesSubplot:>"
      ]
     },
     "execution_count": 18,
     "metadata": {},
     "output_type": "execute_result"
    },
    {
     "data": {
      "image/png": "[encoded data removed]",
      "text/plain": [
       "<Figure size 640x480 with 1 Axes>"
      ]
     },
     "metadata": {},
     "output_type": "display_data"
    }
   ],
   "source": [
    "# Obtain histogram, change color, linewidth and alpha (df.column.hist())\n",
    "data.passenger_count.hist()"
   ]
  },
  {
   "cell_type": "markdown",
   "metadata": {
    "id": "d6V5fHAugEdy"
   },
   "source": [
    "### 6) Box plot"
   ]
  },
  {
   "cell_type": "code",
   "execution_count": 20,
   "metadata": {
    "colab": {
     "base_uri": "https://localhost:8080/",
     "height": 284
    },
    "id": "8u0iVhkhgEdy",
    "outputId": "12f3bf57-0bc5-48da-b183-b82af8a9558e"
   },
   "outputs": [
    {
     "data": {
      "text/plain": [
       "<AxesSubplot:>"
      ]
     },
     "execution_count": 20,
     "metadata": {},
     "output_type": "execute_result"
    },
    {
     "data": {
      "image/png": "[encoded data removed]",
      "text/plain": [
       "<Figure size 640x480 with 1 Axes>"
      ]
     },
     "metadata": {},
     "output_type": "display_data"
    }
   ],
   "source": [
    "# Get boxplot of two columns\n",
    "data.boxplot(column=['fare_amount'])"
   ]
  },
  {
   "cell_type": "markdown",
   "metadata": {
    "id": "W4o654jygEdy"
   },
   "source": [
    "### 7) Scatter plot"
   ]
  },
  {
   "cell_type": "code",
   "execution_count": 21,
   "metadata": {
    "colab": {
     "base_uri": "https://localhost:8080/",
     "height": 283
    },
    "id": "oyZa98IVgEdy",
    "outputId": "84829510-2a40-4de7-e95c-70e3d3f9e95a"
   },
   "outputs": [
    {
     "data": {
      "text/plain": [
       "<matplotlib.collections.PathCollection at 0x7febb9c76610>"
      ]
     },
     "execution_count": 21,
     "metadata": {},
     "output_type": "execute_result"
    },
    {
     "data": {
      "image/png": "[encoded data removed]",
      "text/plain": [
       "<Figure size 640x480 with 1 Axes>"
      ]
     },
     "metadata": {},
     "output_type": "display_data"
    }
   ],
   "source": [
    "# Scatter plot of two columns\n",
    "plt.scatter(data[data['fare_amount']<1000]['passenger_count'],data[data['fare_amount']<1000]['fare_amount'], s=5, c='Orange')"
   ]
  },
  {
   "cell_type": "markdown",
   "metadata": {
    "id": "Sv6mfOFJgEdy"
   },
   "source": [
    "### 8) Correlation test\n",
    "* Compute pairwise correlation of columns, excluding NA/null values\n",
    "* Method of correlation\n",
    "    * pearson : standard correlation coefficient\n",
    "    * kendall : Kendall Tau correlation coefficient\n",
    "    * spearman : Spearman rank correlation"
   ]
  },
  {
   "cell_type": "code",
   "execution_count": 23,
   "metadata": {
    "colab": {
     "base_uri": "https://localhost:8080/",
     "height": 646
    },
    "id": "3vDDVo4ngEdy",
    "outputId": "711b833a-ad54-4e6e-ab7f-0a9990a07800"
   },
   "outputs": [
    {
     "data": {
      "text/html": [
       "<div>\n",
       "<style scoped>\n",
       "    .dataframe tbody tr th:only-of-type {\n",
       "        vertical-align: middle;\n",
       "    }\n",
       "\n",
       "    .dataframe tbody tr th {\n",
       "        vertical-align: top;\n",
       "    }\n",
       "\n",
       "    .dataframe thead th {\n",
       "        text-align: right;\n",
       "    }\n",
       "</style>\n",
       "<table border=\"1\" class=\"dataframe\">\n",
       "  <thead>\n",
       "    <tr style=\"text-align: right;\">\n",
       "      <th></th>\n",
       "      <th>VendorID</th>\n",
       "      <th>passenger_count</th>\n",
       "      <th>trip_distance</th>\n",
       "      <th>RatecodeID</th>\n",
       "      <th>PULocationID</th>\n",
       "      <th>DOLocationID</th>\n",
       "      <th>payment_type</th>\n",
       "      <th>fare_amount</th>\n",
       "      <th>extra</th>\n",
       "      <th>mta_tax</th>\n",
       "      <th>tip_amount</th>\n",
       "      <th>tolls_amount</th>\n",
       "      <th>improvement_surcharge</th>\n",
       "      <th>total_amount</th>\n",
       "      <th>congestion_surcharge</th>\n",
       "      <th>airport_fee</th>\n",
       "      <th>airport</th>\n",
       "    </tr>\n",
       "  </thead>\n",
       "  <tbody>\n",
       "    <tr>\n",
       "      <th>VendorID</th>\n",
       "      <td>1.000000</td>\n",
       "      <td>0.093158</td>\n",
       "      <td>0.002708</td>\n",
       "      <td>-0.085996</td>\n",
       "      <td>0.020493</td>\n",
       "      <td>-0.011890</td>\n",
       "      <td>-0.059438</td>\n",
       "      <td>0.001257</td>\n",
       "      <td>-0.794803</td>\n",
       "      <td>-0.040216</td>\n",
       "      <td>0.010230</td>\n",
       "      <td>-0.001530</td>\n",
       "      <td>-0.046879</td>\n",
       "      <td>0.001149</td>\n",
       "      <td>-0.056391</td>\n",
       "      <td>0.010601</td>\n",
       "      <td>0.011654</td>\n",
       "    </tr>\n",
       "    <tr>\n",
       "      <th>passenger_count</th>\n",
       "      <td>0.093158</td>\n",
       "      <td>1.000000</td>\n",
       "      <td>-0.005448</td>\n",
       "      <td>-0.012591</td>\n",
       "      <td>-0.009762</td>\n",
       "      <td>0.000298</td>\n",
       "      <td>0.098708</td>\n",
       "      <td>0.000048</td>\n",
       "      <td>-0.080126</td>\n",
       "      <td>-0.000137</td>\n",
       "      <td>0.003880</td>\n",
       "      <td>0.017072</td>\n",
       "      <td>0.003175</td>\n",
       "      <td>0.000325</td>\n",
       "      <td>0.117078</td>\n",
       "      <td>0.025192</td>\n",
       "      <td>0.025427</td>\n",
       "    </tr>\n",
       "    <tr>\n",
       "      <th>trip_distance</th>\n",
       "      <td>0.002708</td>\n",
       "      <td>-0.005448</td>\n",
       "      <td>1.000000</td>\n",
       "      <td>-0.000416</td>\n",
       "      <td>-0.002976</td>\n",
       "      <td>-0.001123</td>\n",
       "      <td>-0.009932</td>\n",
       "      <td>0.000406</td>\n",
       "      <td>-0.003212</td>\n",
       "      <td>-0.000433</td>\n",
       "      <td>0.005931</td>\n",
       "      <td>0.006968</td>\n",
       "      <td>0.000453</td>\n",
       "      <td>0.000505</td>\n",
       "      <td>-0.012859</td>\n",
       "      <td>0.003768</td>\n",
       "      <td>0.003790</td>\n",
       "    </tr>\n",
       "    <tr>\n",
       "      <th>RatecodeID</th>\n",
       "      <td>-0.085996</td>\n",
       "      <td>-0.012591</td>\n",
       "      <td>-0.000416</td>\n",
       "      <td>1.000000</td>\n",
       "      <td>-0.037589</td>\n",
       "      <td>-0.025755</td>\n",
       "      <td>-0.009823</td>\n",
       "      <td>0.006640</td>\n",
       "      <td>-0.045831</td>\n",
       "      <td>-0.016088</td>\n",
       "      <td>-0.033049</td>\n",
       "      <td>0.081106</td>\n",
       "      <td>-0.000260</td>\n",
       "      <td>0.006172</td>\n",
       "      <td>-0.156205</td>\n",
       "      <td>0.001053</td>\n",
       "      <td>0.001058</td>\n",
       "    </tr>\n",
       "    <tr>\n",
       "      <th>PULocationID</th>\n",
       "      <td>0.020493</td>\n",
       "      <td>-0.009762</td>\n",
       "      <td>-0.002976</td>\n",
       "      <td>-0.037589</td>\n",
       "      <td>1.000000</td>\n",
       "      <td>0.086852</td>\n",
       "      <td>-0.030402</td>\n",
       "      <td>-0.005153</td>\n",
       "      <td>0.009965</td>\n",
       "      <td>0.006547</td>\n",
       "      <td>-0.049700</td>\n",
       "      <td>-0.069462</td>\n",
       "      <td>0.002059</td>\n",
       "      <td>-0.006022</td>\n",
       "      <td>0.102355</td>\n",
       "      <td>-0.121132</td>\n",
       "      <td>-0.122385</td>\n",
       "    </tr>\n",
       "    <tr>\n",
       "      <th>DOLocationID</th>\n",
       "      <td>-0.011890</td>\n",
       "      <td>0.000298</td>\n",
       "      <td>-0.001123</td>\n",
       "      <td>-0.025755</td>\n",
       "      <td>0.086852</td>\n",
       "      <td>1.000000</td>\n",
       "      <td>-0.025027</td>\n",
       "      <td>-0.004479</td>\n",
       "      <td>0.014316</td>\n",
       "      <td>0.014051</td>\n",
       "      <td>-0.031311</td>\n",
       "      <td>-0.050200</td>\n",
       "      <td>0.002616</td>\n",
       "      <td>-0.004904</td>\n",
       "      <td>0.106103</td>\n",
       "      <td>-0.059785</td>\n",
       "      <td>-0.060672</td>\n",
       "    </tr>\n",
       "    <tr>\n",
       "      <th>payment_type</th>\n",
       "      <td>-0.059438</td>\n",
       "      <td>0.098708</td>\n",
       "      <td>-0.009932</td>\n",
       "      <td>-0.009823</td>\n",
       "      <td>-0.030402</td>\n",
       "      <td>-0.025027</td>\n",
       "      <td>1.000000</td>\n",
       "      <td>-0.000011</td>\n",
       "      <td>0.025773</td>\n",
       "      <td>-0.274908</td>\n",
       "      <td>-0.387612</td>\n",
       "      <td>-0.018029</td>\n",
       "      <td>-0.315774</td>\n",
       "      <td>-0.005173</td>\n",
       "      <td>-0.006082</td>\n",
       "      <td>0.033079</td>\n",
       "      <td>0.040549</td>\n",
       "    </tr>\n",
       "    <tr>\n",
       "      <th>fare_amount</th>\n",
       "      <td>0.001257</td>\n",
       "      <td>0.000048</td>\n",
       "      <td>0.000406</td>\n",
       "      <td>0.006640</td>\n",
       "      <td>-0.005153</td>\n",
       "      <td>-0.004479</td>\n",
       "      <td>-0.000011</td>\n",
       "      <td>1.000000</td>\n",
       "      <td>0.000721</td>\n",
       "      <td>-0.000337</td>\n",
       "      <td>0.024442</td>\n",
       "      <td>0.027901</td>\n",
       "      <td>0.007022</td>\n",
       "      <td>0.999875</td>\n",
       "      <td>-0.011655</td>\n",
       "      <td>0.027048</td>\n",
       "      <td>0.026885</td>\n",
       "    </tr>\n",
       "    <tr>\n",
       "      <th>extra</th>\n",
       "      <td>-0.794803</td>\n",
       "      <td>-0.080126</td>\n",
       "      <td>-0.003212</td>\n",
       "      <td>-0.045831</td>\n",
       "      <td>0.009965</td>\n",
       "      <td>0.014316</td>\n",
       "      <td>0.025773</td>\n",
       "      <td>0.000721</td>\n",
       "      <td>1.000000</td>\n",
       "      <td>0.092066</td>\n",
       "      <td>0.027354</td>\n",
       "      <td>0.021701</td>\n",
       "      <td>0.081448</td>\n",
       "      <td>0.002474</td>\n",
       "      <td>0.199501</td>\n",
       "      <td>0.023421</td>\n",
       "      <td>0.021382</td>\n",
       "    </tr>\n",
       "    <tr>\n",
       "      <th>mta_tax</th>\n",
       "      <td>-0.040216</td>\n",
       "      <td>-0.000137</td>\n",
       "      <td>-0.000433</td>\n",
       "      <td>-0.016088</td>\n",
       "      <td>0.006547</td>\n",
       "      <td>0.014051</td>\n",
       "      <td>-0.274908</td>\n",
       "      <td>-0.000337</td>\n",
       "      <td>0.092066</td>\n",
       "      <td>1.000000</td>\n",
       "      <td>-0.009909</td>\n",
       "      <td>-0.093360</td>\n",
       "      <td>0.862321</td>\n",
       "      <td>0.000960</td>\n",
       "      <td>0.401453</td>\n",
       "      <td>0.025391</td>\n",
       "      <td>0.005169</td>\n",
       "    </tr>\n",
       "    <tr>\n",
       "      <th>tip_amount</th>\n",
       "      <td>0.010230</td>\n",
       "      <td>0.003880</td>\n",
       "      <td>0.005931</td>\n",
       "      <td>-0.033049</td>\n",
       "      <td>-0.049700</td>\n",
       "      <td>-0.031311</td>\n",
       "      <td>-0.387612</td>\n",
       "      <td>0.024442</td>\n",
       "      <td>0.027354</td>\n",
       "      <td>-0.009909</td>\n",
       "      <td>1.000000</td>\n",
       "      <td>0.399477</td>\n",
       "      <td>0.059637</td>\n",
       "      <td>0.038569</td>\n",
       "      <td>-0.061273</td>\n",
       "      <td>0.353882</td>\n",
       "      <td>0.353889</td>\n",
       "    </tr>\n",
       "    <tr>\n",
       "      <th>tolls_amount</th>\n",
       "      <td>-0.001530</td>\n",
       "      <td>0.017072</td>\n",
       "      <td>0.006968</td>\n",
       "      <td>0.081106</td>\n",
       "      <td>-0.069462</td>\n",
       "      <td>-0.050200</td>\n",
       "      <td>-0.018029</td>\n",
       "      <td>0.027901</td>\n",
       "      <td>0.021701</td>\n",
       "      <td>-0.093360</td>\n",
       "      <td>0.399477</td>\n",
       "      <td>1.000000</td>\n",
       "      <td>0.025357</td>\n",
       "      <td>0.039112</td>\n",
       "      <td>-0.119724</td>\n",
       "      <td>0.449413</td>\n",
       "      <td>0.449509</td>\n",
       "    </tr>\n",
       "    <tr>\n",
       "      <th>improvement_surcharge</th>\n",
       "      <td>-0.046879</td>\n",
       "      <td>0.003175</td>\n",
       "      <td>0.000453</td>\n",
       "      <td>-0.000260</td>\n",
       "      <td>0.002059</td>\n",
       "      <td>0.002616</td>\n",
       "      <td>-0.315774</td>\n",
       "      <td>0.007022</td>\n",
       "      <td>0.081448</td>\n",
       "      <td>0.862321</td>\n",
       "      <td>0.059637</td>\n",
       "      <td>0.025357</td>\n",
       "      <td>1.000000</td>\n",
       "      <td>0.009777</td>\n",
       "      <td>0.378713</td>\n",
       "      <td>0.042650</td>\n",
       "      <td>0.019136</td>\n",
       "    </tr>\n",
       "    <tr>\n",
       "      <th>total_amount</th>\n",
       "      <td>0.001149</td>\n",
       "      <td>0.000325</td>\n",
       "      <td>0.000505</td>\n",
       "      <td>0.006172</td>\n",
       "      <td>-0.006022</td>\n",
       "      <td>-0.004904</td>\n",
       "      <td>-0.005173</td>\n",
       "      <td>0.999875</td>\n",
       "      <td>0.002474</td>\n",
       "      <td>0.000960</td>\n",
       "      <td>0.038569</td>\n",
       "      <td>0.039112</td>\n",
       "      <td>0.009777</td>\n",
       "      <td>1.000000</td>\n",
       "      <td>-0.010576</td>\n",
       "      <td>0.034152</td>\n",
       "      <td>0.033947</td>\n",
       "    </tr>\n",
       "    <tr>\n",
       "      <th>congestion_surcharge</th>\n",
       "      <td>-0.056391</td>\n",
       "      <td>0.117078</td>\n",
       "      <td>-0.012859</td>\n",
       "      <td>-0.156205</td>\n",
       "      <td>0.102355</td>\n",
       "      <td>0.106103</td>\n",
       "      <td>-0.006082</td>\n",
       "      <td>-0.011655</td>\n",
       "      <td>0.199501</td>\n",
       "      <td>0.401453</td>\n",
       "      <td>-0.061273</td>\n",
       "      <td>-0.119724</td>\n",
       "      <td>0.378713</td>\n",
       "      <td>-0.010576</td>\n",
       "      <td>1.000000</td>\n",
       "      <td>-0.324129</td>\n",
       "      <td>-0.331030</td>\n",
       "    </tr>\n",
       "    <tr>\n",
       "      <th>airport_fee</th>\n",
       "      <td>0.010601</td>\n",
       "      <td>0.025192</td>\n",
       "      <td>0.003768</td>\n",
       "      <td>0.001053</td>\n",
       "      <td>-0.121132</td>\n",
       "      <td>-0.059785</td>\n",
       "      <td>0.033079</td>\n",
       "      <td>0.027048</td>\n",
       "      <td>0.023421</td>\n",
       "      <td>0.025391</td>\n",
       "      <td>0.353882</td>\n",
       "      <td>0.449413</td>\n",
       "      <td>0.042650</td>\n",
       "      <td>0.034152</td>\n",
       "      <td>-0.324129</td>\n",
       "      <td>1.000000</td>\n",
       "      <td>0.996489</td>\n",
       "    </tr>\n",
       "    <tr>\n",
       "      <th>airport</th>\n",
       "      <td>0.011654</td>\n",
       "      <td>0.025427</td>\n",
       "      <td>0.003790</td>\n",
       "      <td>0.001058</td>\n",
       "      <td>-0.122385</td>\n",
       "      <td>-0.060672</td>\n",
       "      <td>0.040549</td>\n",
       "      <td>0.026885</td>\n",
       "      <td>0.021382</td>\n",
       "      <td>0.005169</td>\n",
       "      <td>0.353889</td>\n",
       "      <td>0.449509</td>\n",
       "      <td>0.019136</td>\n",
       "      <td>0.033947</td>\n",
       "      <td>-0.331030</td>\n",
       "      <td>0.996489</td>\n",
       "      <td>1.000000</td>\n",
       "    </tr>\n",
       "  </tbody>\n",
       "</table>\n",
       "</div>"
      ],
      "text/plain": [
       "                       VendorID  passenger_count  trip_distance  RatecodeID  \\\n",
       "VendorID               1.000000         0.093158       0.002708   -0.085996   \n",
       "passenger_count        0.093158         1.000000      -0.005448   -0.012591   \n",
       "trip_distance          0.002708        -0.005448       1.000000   -0.000416   \n",
       "RatecodeID            -0.085996        -0.012591      -0.000416    1.000000   \n",
       "PULocationID           0.020493        -0.009762      -0.002976   -0.037589   \n",
       "DOLocationID          -0.011890         0.000298      -0.001123   -0.025755   \n",
       "payment_type          -0.059438         0.098708      -0.009932   -0.009823   \n",
       "fare_amount            0.001257         0.000048       0.000406    0.006640   \n",
       "extra                 -0.794803        -0.080126      -0.003212   -0.045831   \n",
       "mta_tax               -0.040216        -0.000137      -0.000433   -0.016088   \n",
       "tip_amount             0.010230         0.003880       0.005931   -0.033049   \n",
       "tolls_amount          -0.001530         0.017072       0.006968    0.081106   \n",
       "improvement_surcharge -0.046879         0.003175       0.000453   -0.000260   \n",
       "total_amount           0.001149         0.000325       0.000505    0.006172   \n",
       "congestion_surcharge  -0.056391         0.117078      -0.012859   -0.156205   \n",
       "airport_fee            0.010601         0.025192       0.003768    0.001053   \n",
       "airport                0.011654         0.025427       0.003790    0.001058   \n",
       "\n",
       "                       PULocationID  DOLocationID  payment_type  fare_amount  \\\n",
       "VendorID                   0.020493     -0.011890     -0.059438     0.001257   \n",
       "passenger_count           -0.009762      0.000298      0.098708     0.000048   \n",
       "trip_distance             -0.002976     -0.001123     -0.009932     0.000406   \n",
       "RatecodeID                -0.037589     -0.025755     -0.009823     0.006640   \n",
       "PULocationID               1.000000      0.086852     -0.030402    -0.005153   \n",
       "DOLocationID               0.086852      1.000000     -0.025027    -0.004479   \n",
       "payment_type              -0.030402     -0.025027      1.000000    -0.000011   \n",
       "fare_amount               -0.005153     -0.004479     -0.000011     1.000000   \n",
       "extra                      0.009965      0.014316      0.025773     0.000721   \n",
       "mta_tax                    0.006547      0.014051     -0.274908    -0.000337   \n",
       "tip_amount                -0.049700     -0.031311     -0.387612     0.024442   \n",
       "tolls_amount              -0.069462     -0.050200     -0.018029     0.027901   \n",
       "improvement_surcharge      0.002059      0.002616     -0.315774     0.007022   \n",
       "total_amount              -0.006022     -0.004904     -0.005173     0.999875   \n",
       "congestion_surcharge       0.102355      0.106103     -0.006082    -0.011655   \n",
       "airport_fee               -0.121132     -0.059785      0.033079     0.027048   \n",
       "airport                   -0.122385     -0.060672      0.040549     0.026885   \n",
       "\n",
       "                          extra   mta_tax  tip_amount  tolls_amount  \\\n",
       "VendorID              -0.794803 -0.040216    0.010230     -0.001530   \n",
       "passenger_count       -0.080126 -0.000137    0.003880      0.017072   \n",
       "trip_distance         -0.003212 -0.000433    0.005931      0.006968   \n",
       "RatecodeID            -0.045831 -0.016088   -0.033049      0.081106   \n",
       "PULocationID           0.009965  0.006547   -0.049700     -0.069462   \n",
       "DOLocationID           0.014316  0.014051   -0.031311     -0.050200   \n",
       "payment_type           0.025773 -0.274908   -0.387612     -0.018029   \n",
       "fare_amount            0.000721 -0.000337    0.024442      0.027901   \n",
       "extra                  1.000000  0.092066    0.027354      0.021701   \n",
       "mta_tax                0.092066  1.000000   -0.009909     -0.093360   \n",
       "tip_amount             0.027354 -0.009909    1.000000      0.399477   \n",
       "tolls_amount           0.021701 -0.093360    0.399477      1.000000   \n",
       "improvement_surcharge  0.081448  0.862321    0.059637      0.025357   \n",
       "total_amount           0.002474  0.000960    0.038569      0.039112   \n",
       "congestion_surcharge   0.199501  0.401453   -0.061273     -0.119724   \n",
       "airport_fee            0.023421  0.025391    0.353882      0.449413   \n",
       "airport                0.021382  0.005169    0.353889      0.449509   \n",
       "\n",
       "                       improvement_surcharge  total_amount  \\\n",
       "VendorID                           -0.046879      0.001149   \n",
       "passenger_count                     0.003175      0.000325   \n",
       "trip_distance                       0.000453      0.000505   \n",
       "RatecodeID                         -0.000260      0.006172   \n",
       "PULocationID                        0.002059     -0.006022   \n",
       "DOLocationID                        0.002616     -0.004904   \n",
       "payment_type                       -0.315774     -0.005173   \n",
       "fare_amount                         0.007022      0.999875   \n",
       "extra                               0.081448      0.002474   \n",
       "mta_tax                             0.862321      0.000960   \n",
       "tip_amount                          0.059637      0.038569   \n",
       "tolls_amount                        0.025357      0.039112   \n",
       "improvement_surcharge               1.000000      0.009777   \n",
       "total_amount                        0.009777      1.000000   \n",
       "congestion_surcharge                0.378713     -0.010576   \n",
       "airport_fee                         0.042650      0.034152   \n",
       "airport                             0.019136      0.033947   \n",
       "\n",
       "                       congestion_surcharge  airport_fee   airport  \n",
       "VendorID                          -0.056391     0.010601  0.011654  \n",
       "passenger_count                    0.117078     0.025192  0.025427  \n",
       "trip_distance                     -0.012859     0.003768  0.003790  \n",
       "RatecodeID                        -0.156205     0.001053  0.001058  \n",
       "PULocationID                       0.102355    -0.121132 -0.122385  \n",
       "DOLocationID                       0.106103    -0.059785 -0.060672  \n",
       "payment_type                      -0.006082     0.033079  0.040549  \n",
       "fare_amount                       -0.011655     0.027048  0.026885  \n",
       "extra                              0.199501     0.023421  0.021382  \n",
       "mta_tax                            0.401453     0.025391  0.005169  \n",
       "tip_amount                        -0.061273     0.353882  0.353889  \n",
       "tolls_amount                      -0.119724     0.449413  0.449509  \n",
       "improvement_surcharge              0.378713     0.042650  0.019136  \n",
       "total_amount                      -0.010576     0.034152  0.033947  \n",
       "congestion_surcharge               1.000000    -0.324129 -0.331030  \n",
       "airport_fee                       -0.324129     1.000000  0.996489  \n",
       "airport                           -0.331030     0.996489  1.000000  "
      ]
     },
     "execution_count": 23,
     "metadata": {},
     "output_type": "execute_result"
    }
   ],
   "source": [
    "# Correlation\n",
    "data.corr()"
   ]
  },
  {
   "cell_type": "markdown",
   "metadata": {
    "id": "SW20A7JpgEdy"
   },
   "source": [
    "### 9) Correlation matrix plot"
   ]
  },
  {
   "cell_type": "code",
   "execution_count": 24,
   "metadata": {
    "colab": {
     "base_uri": "https://localhost:8080/",
     "height": 735
    },
    "id": "tCFkBDcLgEdy",
    "outputId": "e3f2d8a3-72df-40d9-e8ca-2d50c55876f6"
   },
   "outputs": [
    {
     "data": {
      "image/png": "[encoded data removed]",
      "text/plain": [
       "<Figure size 1200x1200 with 9 Axes>"
      ]
     },
     "metadata": {},
     "output_type": "display_data"
    }
   ],
   "source": [
    "from pandas.plotting import scatter_matrix\n",
    "\n",
    "scatter_matrix(data[['passenger_count','trip_distance','airport_fee']],\n",
    "               alpha=1, figsize=(12, 12), diagonal='hist',\n",
    "               hist_kwds={'color':'Silver', 'edgecolor':'k', 'alpha':0.5},\n",
    "               s=20, color='Silver')\n",
    "plt.show()"
   ]
  },
  {
   "cell_type": "code",
   "execution_count": 25,
   "metadata": {},
   "outputs": [
    {
     "data": {
      "image/png": "[encoded data removed]",
      "text/plain": [
       "<Figure size 1000x1000 with 9 Axes>"
      ]
     },
     "metadata": {},
     "output_type": "display_data"
    }
   ],
   "source": [
    "import pandas as pd\n",
    "import matplotlib.pyplot as plt\n",
    "from pandas.plotting import scatter_matrix\n",
    "\n",
    "# 创建数据集\n",
    "data = {'Height': [6, 5.5, 5.8, 6.1, 6.2], \n",
    "        'Weight': [180, 140, 170, 200, 210], \n",
    "        'Age': [30, 25, 28, 32, 35]}\n",
    "df = pd.DataFrame(data)\n",
    "\n",
    "# 使用scatter_matrix绘制散点图矩阵\n",
    "scatter_matrix(df, figsize=(10, 10))\n",
    "plt.show()"
   ]
  },
  {
   "cell_type": "markdown",
   "metadata": {
    "id": "jC1zo3VOgEdz"
   },
   "source": [
    "### 11) Mapping with spatial data\n",
    "\n",
    "If you don't have geopandas, please read through the instructions posted on Canvas and try to install geopandas to your local machine. "
   ]
  },
  {
   "cell_type": "code",
   "execution_count": null,
   "metadata": {
    "id": "G-YCwO1YpFfw"
   },
   "outputs": [],
   "source": [
    "# !apt install gdal-bin python-gdal python3-gdal\n",
    "# !apt install python3-rtree \n",
    "# !pip install descartes\n",
    "# !pip install geopandas"
   ]
  },
  {
   "cell_type": "code",
   "execution_count": 26,
   "metadata": {
    "id": "xtdTk5YvgEdz"
   },
   "outputs": [],
   "source": [
    "import geopandas as gpd"
   ]
  },
  {
   "cell_type": "code",
   "execution_count": 28,
   "metadata": {
    "id": "pVRtYlHVgEdz"
   },
   "outputs": [],
   "source": [
    "# Assign randomly borough\n",
    "# df[\"column\"] = np.random.choice(list, size=len(df))\n",
    "# Read geojson and merge\n",
    "# https://github.com/codeforgermany/click_that_hood/blob/main/public/data/new-york-city-boroughs.geojson"
   ]
  },
  {
   "cell_type": "code",
   "execution_count": null,
   "metadata": {
    "id": "zbmIDsnvgEdz"
   },
   "outputs": [],
   "source": [
    "# Plot\n"
   ]
  },
  {
   "cell_type": "markdown",
   "metadata": {
    "id": "hqz1jt9qgEdz"
   },
   "source": [
    "### 12) Choropleth map\n",
    "* Definition: A choropleth map is a type of thematic map in which areas are shaded or patterned in proportion to a statistical variable that represents an aggregate summary of a geographic characteristic within each area, such as population density or per-capita income."
   ]
  },
  {
   "cell_type": "code",
   "execution_count": null,
   "metadata": {
    "id": "LY7lct_QgEdz"
   },
   "outputs": [],
   "source": [
    "# Plot a choropleth"
   ]
  }
 ],
 "metadata": {
  "colab": {
   "provenance": []
  },
  "kernelspec": {
   "display_name": "Python 3 (ipykernel)",
   "language": "python",
   "name": "python3"
  },
  "language_info": {
   "codemirror_mode": {
    "name": "ipython",
    "version": 3
   },
   "file_extension": ".py",
   "mimetype": "text/x-python",
   "name": "python",
   "nbconvert_exporter": "python",
   "pygments_lexer": "ipython3",
   "version": "3.9.13"
  }
 },
 "nbformat": 4,
 "nbformat_minor": 1
}
