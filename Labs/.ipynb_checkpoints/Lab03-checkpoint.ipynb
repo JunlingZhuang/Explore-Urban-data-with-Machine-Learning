{
 "cells": [
  {
   "cell_type": "markdown",
   "metadata": {
    "id": "ylOId3QKDLp4"
   },
   "source": [
    "# Exploring Urban Data with ML\n",
    "# Supervised Learning 1 - Regression Models\n",
    "\n"
   ]
  },
  {
   "cell_type": "markdown",
   "metadata": {
    "id": "tqgTaqafDLp_"
   },
   "source": [
    "## Ordinary Least Squared (OLS) regression model"
   ]
  },
  {
   "cell_type": "code",
   "execution_count": null,
   "metadata": {
    "id": "pPWnQBvlV4xb"
   },
   "outputs": [],
   "source": [
    "# !pip install regressors"
   ]
  },
  {
   "cell_type": "code",
   "execution_count": null,
   "metadata": {
    "id": "Xt18J45cDLp_"
   },
   "outputs": [],
   "source": [
    "import warnings\n",
    "warnings.filterwarnings(\"ignore\")\n",
    "\n",
    "import pandas as pd\n",
    "import numpy as np\n",
    "from math import sqrt\n",
    "from regressors import stats\n",
    "\n",
    "from sklearn import model_selection\n",
    "from sklearn.linear_model import LinearRegression\n",
    "from sklearn.metrics import r2_score\n",
    "from sklearn.model_selection import train_test_split\n",
    "from sklearn.metrics import mean_squared_error\n",
    "\n",
    "import matplotlib.pyplot as plt"
   ]
  },
  {
   "cell_type": "markdown",
   "metadata": {
    "id": "m8kNm1NFDLqA"
   },
   "source": [
    "__About data__<br>\n",
    "Sklearn provides example datasets for exercise purposes. For more information, please check https://scikit-learn.org/stable/datasets/index.html <br>\n",
    "\n",
    "__Boston Housing dataset__ (506 samples and 13 derived features)\n",
    "\n",
    "\n",
    "* CRIM - per capita crime rate by town\n",
    "* ZN - proportion of residential land zoned for lots over 25,000 sq.ft.\n",
    "* INDUS - proportion of non-retail business acres per town\n",
    "* CHAS - Charles River dummy variable (= 1 if tract bounds river; 0 otherwise)\n",
    "* NOX - nitric oxides concentration (parts per 10 million)\n",
    "* RM - average number of rooms per dwelling\n",
    "* AGE - proportion of owner-occupied units built prior to 1940\n",
    "* DIS - weighted distances to five Boston employment centres\n",
    "* RAD - index of accessibility to radial highways\n",
    "* TAX - full-value property-tax rate per USD10,000\n",
    "* PTRATIO - pupil-teacher ratio by town\n",
    "* B - 1000(Bk - 0.63)^2 where Bk is the proportion of blacks by town\n",
    "* LSTAT - percentage lower status of the population\n",
    "* MEDV - Median value of owner-occupied homes in USD1000’s (*Our target variable*)\n",
    "\n"
   ]
  },
  {
   "cell_type": "markdown",
   "metadata": {
    "id": "jMR9gI7ADLqB"
   },
   "source": [
    "#### Load Boston housing dataset from sklearn"
   ]
  },
  {
   "cell_type": "code",
   "execution_count": null,
   "metadata": {
    "id": "gcXEhfIZDLqB"
   },
   "outputs": [],
   "source": [
    "from sklearn.datasets import load_boston\n",
    "\n",
    "boston = load_boston()\n",
    "df = pd.DataFrame(boston.data, columns = boston.feature_names)\n",
    "df['MEDV'] = boston.target\n",
    "\n",
    "print (df.shape)\n",
    "df.head()"
   ]
  },
  {
   "cell_type": "code",
   "execution_count": null,
   "metadata": {
    "id": "YisH60_nDLqi"
   },
   "outputs": [],
   "source": [
    "# boston"
   ]
  },
  {
   "cell_type": "markdown",
   "metadata": {
    "id": "_Batf5s_DLqi"
   },
   "source": [
    "#### Split data into target variable (y) and predictors (X)\n",
    "* target variable - y - dependent variable - label\n",
    "* predictors - X - independent variables - explanatory variables"
   ]
  },
  {
   "cell_type": "code",
   "execution_count": null,
   "metadata": {
    "id": "VkeYSQ83DLqi"
   },
   "outputs": [],
   "source": [
    "X, y = df.iloc[:,:-1], df.iloc[:,-1]\n",
    "\n",
    "# X = df.iloc[:,:-1]\n",
    "# y = df.iloc[:,-1]"
   ]
  },
  {
   "cell_type": "markdown",
   "metadata": {
    "id": "cUIHryD2DLqi"
   },
   "source": [
    "#### Split data in training and test data"
   ]
  },
  {
   "cell_type": "code",
   "execution_count": null,
   "metadata": {
    "id": "C7rNrZBgDLqi"
   },
   "outputs": [],
   "source": [
    "X_train, X_test, y_train, y_test = train_test_split(X,y, train_size = 0.75, random_state = 0)\n",
    "\n",
    "print (len(X_train))\n",
    "print (len(X_test))"
   ]
  },
  {
   "cell_type": "markdown",
   "metadata": {
    "id": "ljSKQtHkDLqi"
   },
   "source": [
    "#### Building a linear regression model (OLS)"
   ]
  },
  {
   "cell_type": "code",
   "execution_count": null,
   "metadata": {
    "id": "Ts1FB7BKDLqj"
   },
   "outputs": [],
   "source": [
    "# You can choose any text for your model name\n",
    "lr = LinearRegression().fit(X_train, y_train)"
   ]
  },
  {
   "cell_type": "markdown",
   "metadata": {
    "id": "5mw0o1syDLqj"
   },
   "source": [
    "#### Predict values using OLS model and evaluate (training)\n",
    "    predicted y value = YOUR_MODEL_NAME.predict(X_train)\n",
    "    \n",
    "    # Metrics\n",
    "    MSE = YOUR_MODEL_NAME.mean_squared_error(y_train, y_pred_train)\n",
    "    R2 = YOUR_MODEL_NAME.score(X_train, y_train)"
   ]
  },
  {
   "cell_type": "code",
   "execution_count": null,
   "metadata": {
    "id": "mnAk6NEtDLqj"
   },
   "outputs": [],
   "source": [
    "y_pred_train = lr.predict(X_train)"
   ]
  },
  {
   "cell_type": "code",
   "execution_count": null,
   "metadata": {
    "id": "Q0lPTR3eDLqj"
   },
   "outputs": [],
   "source": [
    "# R2\n",
    "lr.score(X_train, y_train)"
   ]
  },
  {
   "cell_type": "code",
   "execution_count": null,
   "metadata": {
    "id": "54i0uSGrDLqj"
   },
   "outputs": [],
   "source": [
    "# MSE\n",
    "mean_squared_error(y_train, y_pred_train)"
   ]
  },
  {
   "cell_type": "markdown",
   "metadata": {
    "id": "9izCuRlqDLqj"
   },
   "source": [
    "#### Predict values and evaluate (test)"
   ]
  },
  {
   "cell_type": "code",
   "execution_count": null,
   "metadata": {
    "id": "P2GIDJRHDLqj"
   },
   "outputs": [],
   "source": [
    "# If the result from the test dataset is reasonable, our traning model can be used to test data\n",
    "# Predicting new data points (future data)\n",
    "\n",
    "y_pred_test = lr.predict(X_test)\n",
    "\n",
    "print (lr.score(X_test, y_test))\n",
    "print (mean_squared_error(y_test, y_pred_test))"
   ]
  },
  {
   "cell_type": "markdown",
   "metadata": {
    "id": "6aYaNb9aDLqj"
   },
   "source": [
    "### Conclusions:"
   ]
  },
  {
   "cell_type": "markdown",
   "metadata": {
    "id": "BJGtilQFDLqj"
   },
   "source": [
    "#### Regression results: coefficients\n",
    "\n",
    "\n",
    "    # The change in the value of dependent variable corresponding to the unit change in the independent variable.\n",
    "\n",
    "    coefficients of predictors = YOUR_MODEL_NAME.coef_\n",
    "    constant = YOUR_MODEL_NAME.intercept_\n",
    "    p-values of predictors and intercept = stats.coef_pval(YOUR_MODEL_NAME, X_train, y_train)\n",
    "    Summary table = stats.summary(YOUR_MODEL_NAME, X_train, y_train, list of predictors)    "
   ]
  },
  {
   "cell_type": "code",
   "execution_count": null,
   "metadata": {
    "id": "psQYNj6qDLqj"
   },
   "outputs": [],
   "source": [
    "print (df.columns.tolist()[:-1])\n",
    "print (lr.coef_)\n",
    "print (stats.coef_pval(lr, X_train, y_train))\n",
    "print (lr.intercept_)"
   ]
  },
  {
   "cell_type": "code",
   "execution_count": null,
   "metadata": {
    "id": "RPPgqdXTDLqj"
   },
   "outputs": [],
   "source": [
    "# Create pandas dataframe of results\n",
    "result_ols = pd.DataFrame(columns=['Features', 'Coef', 'p-value'])\n",
    "result_ols['Features'] = df.columns.tolist()[:-1]\n",
    "result_ols['Coef'] = lr.coef_\n",
    "result_ols['p-value'] = stats.coef_pval(lr, X_train, y_train)[1:]\n",
    "result_ols.round(3)"
   ]
  },
  {
   "cell_type": "code",
   "execution_count": null,
   "metadata": {
    "id": "C4riPaiKDLqk"
   },
   "outputs": [],
   "source": [
    "stats.summary(lr, X_train, y_train, df.columns.tolist()[:-1])"
   ]
  },
  {
   "cell_type": "markdown",
   "metadata": {
    "id": "3aFTWXr9DLqk"
   },
   "source": [
    "#### Do more complex models with more predictors perform better?\n",
    "__Let's use more features to predict housing prices in Boston__\n",
    "* 506 samples, 104 predictors (artificial data)"
   ]
  },
  {
   "cell_type": "code",
   "execution_count": null,
   "metadata": {
    "id": "Ggy62NtYDLqk"
   },
   "outputs": [],
   "source": [
    "df = pd.read_csv('boston_data_extended.csv')\n",
    "print (df.shape)\n",
    "df.head(2)"
   ]
  },
  {
   "cell_type": "markdown",
   "metadata": {
    "id": "1V0nPROPDLqk"
   },
   "source": [
    "#### Try the same OLS process"
   ]
  },
  {
   "cell_type": "code",
   "execution_count": null,
   "metadata": {
    "id": "SghyItmFDLqk"
   },
   "outputs": [],
   "source": [
    "# Split predictors and target variable\n",
    "X, y = df.iloc[:,:-1], df.iloc[:,-1]\n",
    "\n",
    "# Split train and test dataset\n",
    "X_train, X_test, y_train, y_test = train_test_split(X,y, train_size = 0.75, random_state=0)\n",
    "\n",
    "# Build OLS model\n",
    "lr = LinearRegression().fit(X_train, y_train) # training process \n",
    "\n",
    "y_pred_train = lr.predict(X_train)\n",
    "y_pred_test = lr.predict(X_test)\n",
    "\n",
    "# Model performance (R-squared values of train and test sets)\n",
    "print (\"Training set score: %.2f\"% lr.score(X_train, y_train))\n",
    "print (\"Test set score: %.2f\"% lr.score(X_test, y_test))\n",
    "\n",
    "# Model performance (MSE of train and test sets)\n",
    "print('Mean squared error (train set): %.2f'% mean_squared_error(y_train, y_pred_train))\n",
    "print('Mean squared error (test set): %.2f'% mean_squared_error(y_test, y_pred_test))"
   ]
  }
 ],
 "metadata": {
  "colab": {
   "provenance": [],
   "toc_visible": true
  },
  "kernelspec": {
   "display_name": "Python 3 (ipykernel)",
   "language": "python",
   "name": "python3"
  },
  "language_info": {
   "codemirror_mode": {
    "name": "ipython",
    "version": 3
   },
   "file_extension": ".py",
   "mimetype": "text/x-python",
   "name": "python",
   "nbconvert_exporter": "python",
   "pygments_lexer": "ipython3",
   "version": "3.9.13"
  }
 },
 "nbformat": 4,
 "nbformat_minor": 1
}
