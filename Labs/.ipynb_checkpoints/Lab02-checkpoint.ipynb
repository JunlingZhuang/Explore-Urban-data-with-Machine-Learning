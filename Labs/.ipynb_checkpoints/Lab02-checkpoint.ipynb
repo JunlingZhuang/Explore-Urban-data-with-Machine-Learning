{
 "cells": [
  {
   "cell_type": "markdown",
   "metadata": {
    "id": "5UsCfnaCgEdn"
   },
   "source": [
    "PLA6113 Exploring Urban Data with Machine Learning\n",
    "<br>\n",
    "# Lab 02: Exploratory Data Analysis\n"
   ]
  },
  {
   "cell_type": "code",
   "execution_count": 1,
   "metadata": {
    "id": "M6grN7_SgEdp"
   },
   "outputs": [],
   "source": [
    "import numpy as np\n",
    "import pandas as pd\n",
    "import matplotlib.pyplot as plt\n",
    "%matplotlib inline"
   ]
  },
  {
   "cell_type": "markdown",
   "metadata": {
    "id": "upUHjvThgEdw"
   },
   "source": [
    "### 1) Load datasets\n",
    "\n",
    "####January Yellow Taxi Trip Data\n",
    "https://d37ci6vzurychx.cloudfront.net/trip-data/yellow_tripdata_2022-01.parquet"
   ]
  },
  {
   "cell_type": "code",
   "execution_count": null,
   "metadata": {
    "id": "kOkFeXQsjEPt"
   },
   "outputs": [],
   "source": [
    "data.head()"
   ]
  },
  {
   "cell_type": "markdown",
   "metadata": {
    "id": "51O1ki_RgEdw"
   },
   "source": [
    "### 2) Check missing values\n",
    "* This is a really important process to avaoid any wrong results in statistics\n",
    "* More information about missing data, see 'Python Data Science Handbook, O'Reilly' (p.119)"
   ]
  },
  {
   "cell_type": "code",
   "execution_count": null,
   "metadata": {
    "id": "IgrtM9WIgEdw"
   },
   "outputs": [],
   "source": [
    "# Check nulls"
   ]
  },
  {
   "cell_type": "code",
   "execution_count": null,
   "metadata": {
    "id": "OSKl9hekgEdw"
   },
   "outputs": [],
   "source": [
    "# Get mean using built-in function"
   ]
  },
  {
   "cell_type": "code",
   "execution_count": null,
   "metadata": {
    "id": "gwBP_LCcgEdx"
   },
   "outputs": [],
   "source": [
    "# Get mean using sum and len"
   ]
  },
  {
   "cell_type": "code",
   "execution_count": null,
   "metadata": {
    "id": "BFHSVctNgEdx"
   },
   "outputs": [],
   "source": [
    "# Replace nulls: replace(np.nan, 0)\n"
   ]
  },
  {
   "cell_type": "code",
   "execution_count": null,
   "metadata": {
    "id": "9QXxN5xFgEdx"
   },
   "outputs": [],
   "source": [
    "df1.isnull().sum()"
   ]
  },
  {
   "cell_type": "code",
   "execution_count": null,
   "metadata": {
    "id": "VasHpL5UgEdx"
   },
   "outputs": [],
   "source": [
    "# Repeat the previous process"
   ]
  },
  {
   "cell_type": "markdown",
   "metadata": {
    "id": "uqGsQ8-EgEdx"
   },
   "source": [
    "### 3) Create a new column based on the existing columns"
   ]
  },
  {
   "cell_type": "code",
   "execution_count": null,
   "metadata": {
    "id": "TG0MhCeugEdx"
   },
   "outputs": [],
   "source": [
    "# Check if trip included a airport in the route"
   ]
  },
  {
   "cell_type": "code",
   "execution_count": null,
   "metadata": {
    "id": "PiIo3DiMgEdx"
   },
   "outputs": [],
   "source": []
  },
  {
   "cell_type": "markdown",
   "metadata": {
    "id": "m8PSs_-UgEdx"
   },
   "source": [
    "### 4) Descriptive statistics"
   ]
  },
  {
   "cell_type": "code",
   "execution_count": null,
   "metadata": {
    "id": "6jgeBaZIgEdx"
   },
   "outputs": [],
   "source": [
    "# Use describe()"
   ]
  },
  {
   "cell_type": "code",
   "execution_count": null,
   "metadata": {
    "id": "-mmn3dWHgEdx"
   },
   "outputs": [],
   "source": [
    "# Round the numbers"
   ]
  },
  {
   "cell_type": "markdown",
   "metadata": {
    "id": "qiqNSkiggEdy"
   },
   "source": [
    "### 5) Histogram"
   ]
  },
  {
   "cell_type": "code",
   "execution_count": null,
   "metadata": {
    "id": "bBYRVK0SgEdy"
   },
   "outputs": [],
   "source": [
    "# Obtain histogram, change color, linewidth and alpha (df.column.hist())"
   ]
  },
  {
   "cell_type": "markdown",
   "metadata": {
    "id": "d6V5fHAugEdy"
   },
   "source": [
    "### 6) Box plot"
   ]
  },
  {
   "cell_type": "code",
   "execution_count": null,
   "metadata": {
    "id": "8u0iVhkhgEdy"
   },
   "outputs": [],
   "source": [
    "# Get boxplot of two columns"
   ]
  },
  {
   "cell_type": "markdown",
   "metadata": {
    "id": "W4o654jygEdy"
   },
   "source": [
    "### 7) Scatter plot"
   ]
  },
  {
   "cell_type": "code",
   "execution_count": null,
   "metadata": {
    "id": "oyZa98IVgEdy"
   },
   "outputs": [],
   "source": [
    "# Scatter plot of two columns"
   ]
  },
  {
   "cell_type": "markdown",
   "metadata": {
    "id": "Sv6mfOFJgEdy"
   },
   "source": [
    "### 8) Correlation test\n",
    "* Compute pairwise correlation of columns, excluding NA/null values\n",
    "* Method of correlation\n",
    "    * pearson : standard correlation coefficient\n",
    "    * kendall : Kendall Tau correlation coefficient\n",
    "    * spearman : Spearman rank correlation"
   ]
  },
  {
   "cell_type": "code",
   "execution_count": null,
   "metadata": {
    "id": "3vDDVo4ngEdy"
   },
   "outputs": [],
   "source": [
    "# Correlation"
   ]
  },
  {
   "cell_type": "markdown",
   "metadata": {
    "id": "SW20A7JpgEdy"
   },
   "source": [
    "### 9) Correlation matrix plot"
   ]
  },
  {
   "cell_type": "code",
   "execution_count": null,
   "metadata": {
    "id": "tCFkBDcLgEdy"
   },
   "outputs": [],
   "source": [
    "from pandas.plotting import scatter_matrix\n",
    "\n",
    "scatter_matrix(df[[columns]],\n",
    "               alpha=0.5, figsize=(12, 12), diagonal='hist',\n",
    "               hist_kwds={'color':'azure', 'edgecolor':'k', 'alpha':0.5},\n",
    "               s=10, color='azure')\n",
    "plt.show()"
   ]
  },
  {
   "cell_type": "markdown",
   "metadata": {
    "id": "jC1zo3VOgEdz"
   },
   "source": [
    "### 11) Mapping with spatial data\n",
    "\n",
    "If you don't have geopandas, please read through the instructions posted on Canvas and try to install geopandas to your local machine. "
   ]
  },
  {
   "cell_type": "code",
   "execution_count": null,
   "metadata": {
    "id": "G-YCwO1YpFfw"
   },
   "outputs": [],
   "source": [
    "# !apt install gdal-bin python-gdal python3-gdal\n",
    "# !apt install python3-rtree \n",
    "# !pip install descartes\n",
    "# !pip install geopandas\n",
    "# import geopandas as gpd"
   ]
  },
  {
   "cell_type": "code",
   "execution_count": null,
   "metadata": {
    "id": "xtdTk5YvgEdz"
   },
   "outputs": [],
   "source": [
    "import geopandas as gpd"
   ]
  },
  {
   "cell_type": "code",
   "execution_count": null,
   "metadata": {
    "id": "pVRtYlHVgEdz"
   },
   "outputs": [],
   "source": [
    "# Assign randomly borough\n",
    "# df[\"column\"] = np.random.choice(list, size=len(df))\n",
    "# Read geojson and merge\n",
    "# https://github.com/codeforgermany/click_that_hood/blob/main/public/data/new-york-city-boroughs.geojson"
   ]
  },
  {
   "cell_type": "code",
   "execution_count": null,
   "metadata": {
    "id": "zbmIDsnvgEdz"
   },
   "outputs": [],
   "source": [
    "# Plot"
   ]
  },
  {
   "cell_type": "markdown",
   "metadata": {
    "id": "hqz1jt9qgEdz"
   },
   "source": [
    "### 12) Choropleth map\n",
    "* Definition: A choropleth map is a type of thematic map in which areas are shaded or patterned in proportion to a statistical variable that represents an aggregate summary of a geographic characteristic within each area, such as population density or per-capita income."
   ]
  },
  {
   "cell_type": "code",
   "execution_count": null,
   "metadata": {
    "id": "LY7lct_QgEdz"
   },
   "outputs": [],
   "source": [
    "# Plot a choropleth"
   ]
  }
 ],
 "metadata": {
  "colab": {
   "provenance": [],
   "toc_visible": true
  },
  "kernelspec": {
   "display_name": "Python 3 (ipykernel)",
   "language": "python",
   "name": "python3"
  },
  "language_info": {
   "codemirror_mode": {
    "name": "ipython",
    "version": 3
   },
   "file_extension": ".py",
   "mimetype": "text/x-python",
   "name": "python",
   "nbconvert_exporter": "python",
   "pygments_lexer": "ipython3",
   "version": "3.9.12"
  }
 },
 "nbformat": 4,
 "nbformat_minor": 1
}
