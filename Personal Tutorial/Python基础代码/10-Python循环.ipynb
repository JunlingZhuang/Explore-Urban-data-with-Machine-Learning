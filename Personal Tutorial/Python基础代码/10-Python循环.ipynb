{
 "cells": [
  {
   "cell_type": "code",
   "execution_count": 1,
   "id": "0b5869f2-b9b9-4fd3-9c86-6d73c40d93c8",
   "metadata": {},
   "outputs": [
    {
     "name": "stdout",
     "output_type": "stream",
     "text": [
      "1\n",
      "2\n",
      "3\n",
      "4\n",
      "5\n",
      "6\n",
      "7\n",
      "8\n",
      "9\n"
     ]
    }
   ],
   "source": [
    "ren = 1\n",
    "while ren <10:\n",
    "    print(ren)\n",
    "    ren += 1 #千万千万不要打= 电脑会爆炸的， += 代表追加操作，即in-place 操作，在原地把另一个对象的内容追加到对象中"
   ]
  },
  {
   "cell_type": "code",
   "execution_count": 4,
   "id": "6f7c7b77-647f-4388-9c52-6b92995ca15a",
   "metadata": {},
   "outputs": [
    {
     "name": "stdout",
     "output_type": "stream",
     "text": [
      "yang\n",
      "chongyang\n"
     ]
    }
   ],
   "source": [
    "rens = set (['chongyang','yang'])\n",
    "while rens: #只要集合内有东西就就行循环\n",
    "    ren = rens.pop()\n",
    "    print(ren) "
   ]
  },
  {
   "cell_type": "code",
   "execution_count": 9,
   "id": "91f8d107-d719-4c9f-8c1d-f89abc21ca96",
   "metadata": {},
   "outputs": [],
   "source": [
    "rens = set(['chongyang','yang'])"
   ]
  },
  {
   "cell_type": "code",
   "execution_count": 10,
   "id": "e4ff84f5-1aaf-477b-8f93-9494721da9b8",
   "metadata": {},
   "outputs": [
    {
     "name": "stdout",
     "output_type": "stream",
     "text": [
      "chongyang\n",
      "yang\n"
     ]
    }
   ],
   "source": [
    "for name in rens:\n",
    "    print(name)"
   ]
  },
  {
   "cell_type": "code",
   "execution_count": 15,
   "id": "b741331b-e5b2-49cd-86ae-15dfbcc4ef08",
   "metadata": {},
   "outputs": [
    {
     "name": "stdout",
     "output_type": "stream",
     "text": [
      "123\n",
      "345\n",
      "554\n",
      "566\n"
     ]
    }
   ],
   "source": [
    "rens = [123,345,554,566]\n",
    "for i in range(len(rens)): #for in range 基本上是一个结合体 指定当前索引的意思\n",
    "    print(rens[i])"
   ]
  },
  {
   "cell_type": "code",
   "execution_count": 21,
   "id": "d95db28d-2600-4a38-a66a-6201eac03437",
   "metadata": {},
   "outputs": [
    {
     "name": "stdout",
     "output_type": "stream",
     "text": [
      "10\n",
      "10\n",
      "12\n",
      "12\n",
      "14\n",
      "14\n"
     ]
    }
   ],
   "source": [
    "rens = [10,11,12,13,14,15]\n",
    "for i in rens:\n",
    "    if i%2 == 0:\n",
    "        print (i)\n",
    "    else:\n",
    "        continue #类似跳过对这个for循环中不包含的11 13 15跳过\n",
    "    print(i) #再次print一遍"
   ]
  },
  {
   "cell_type": "code",
   "execution_count": 22,
   "id": "bf8c6203-5139-44a3-b2b8-df9da739feea",
   "metadata": {},
   "outputs": [
    {
     "name": "stdout",
     "output_type": "stream",
     "text": [
      "10\n",
      "10\n"
     ]
    }
   ],
   "source": [
    "rens = [10,11,12,13,14,15]\n",
    "for i in rens:\n",
    "    if i%2 == 0:\n",
    "        print (i)\n",
    "    else:\n",
    "        break #整个循环结束 走一轮就结束了\n",
    "    print(i) "
   ]
  },
  {
   "cell_type": "code",
   "execution_count": null,
   "id": "3fab6b74-f3d0-4aa6-8340-6cbd928066db",
   "metadata": {},
   "outputs": [],
   "source": []
  }
 ],
 "metadata": {
  "kernelspec": {
   "display_name": "python39",
   "language": "python",
   "name": "python39"
  },
  "language_info": {
   "codemirror_mode": {
    "name": "ipython",
    "version": 3
   },
   "file_extension": ".py",
   "mimetype": "text/x-python",
   "name": "python",
   "nbconvert_exporter": "python",
   "pygments_lexer": "ipython3",
   "version": "3.10.6"
  }
 },
 "nbformat": 4,
 "nbformat_minor": 5
}
